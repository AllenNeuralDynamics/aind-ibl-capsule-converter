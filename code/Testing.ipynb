{
 "cells": [
  {
   "cell_type": "code",
   "execution_count": 3,
   "id": "cca6fd39-fec9-45e1-b8eb-652f0daa6135",
   "metadata": {
    "tags": []
   },
   "outputs": [],
   "source": [
    "from aind_mri_utils.file_io import neuroglancer"
   ]
  },
  {
   "cell_type": "code",
   "execution_count": 7,
   "id": "d059c45f-7a28-492f-b172-aeaf180b39f6",
   "metadata": {
    "tags": []
   },
   "outputs": [],
   "source": [
    "data = neuroglancer._load_json_file(\"/data/Probes_561_729293_Day1and2.json\")"
   ]
  },
  {
   "cell_type": "code",
   "execution_count": 22,
   "id": "1b893494-59e4-401f-9565-e8c9cec3e69d",
   "metadata": {
    "tags": []
   },
   "outputs": [],
   "source": [
    "layers = data[\"layers\"]\n",
    "layer_names = neuroglancer._resolve_layer_names(\n",
    "    layers, None, layer_type=\"image\"\n",
    ")"
   ]
  },
  {
   "cell_type": "code",
   "execution_count": 21,
   "id": "72d87f52-b7a5-4330-8c4f-9377a0499389",
   "metadata": {
    "tags": []
   },
   "outputs": [],
   "source": [
    "image_layers = [x for x in data[\"layers\"] if x[\"type\"] == \"image\"]"
   ]
  },
  {
   "cell_type": "code",
   "execution_count": 24,
   "id": "39c1b161-b17c-43d5-ba84-72b9a928f4a3",
   "metadata": {
    "tags": []
   },
   "outputs": [
    {
     "data": {
      "text/plain": [
       "[{'type': 'image',\n",
       "  'source': {'url': 'zarr://s3://aind-open-data/SmartSPIM_729293_2024-07-31_18-43-04_stitched_2024-08-09_16-50-33/image_tile_fusing/OMEZarr/Ex_561_Em_593.zarr',\n",
       "   'subsources': {'default': True},\n",
       "   'enableDefaultSubsources': False},\n",
       "  'localDimensions': {\"c'\": [1, '']},\n",
       "  'localPosition': [0],\n",
       "  'tab': 'rendering',\n",
       "  'shaderControls': {'normalized': {'range': [0, 2476], 'window': [0, 2500]}},\n",
       "  'volumeRendering': 'max',\n",
       "  'name': 'Ex_561_Em_593.zarr'}]"
      ]
     },
     "execution_count": 24,
     "metadata": {},
     "output_type": "execute_result"
    }
   ],
   "source": [
    "image_layers"
   ]
  },
  {
   "cell_type": "code",
   "execution_count": 37,
   "id": "70c3472c-2bf4-4c15-bd65-33c466547d8c",
   "metadata": {
    "tags": []
   },
   "outputs": [
    {
     "data": {
      "text/plain": [
       "'SmartSPIM_729293_2024-07-31_18-43-04_stitched_2024-08-09_16-50-33'"
      ]
     },
     "execution_count": 37,
     "metadata": {},
     "output_type": "execute_result"
    }
   ],
   "source": [
    "def get_image_source(filename, layer_names=None):\n",
    "    data = neuroglancer._load_json_file(filename)\n",
    "\n",
    "    image_layer = [x for x in data[\"layers\"] if x[\"type\"] == \"image\"]\n",
    "    return [x[\"source\"][\"url\"] for x in image_layer]\n",
    "\n",
    "\n",
    "source = get_image_source(\"/data/Probes_561_729293_Day1and2.json\")\n",
    "[x for x in source[0].split(\"/\") if \"SmartSPIM\" in x][0]"
   ]
  },
  {
   "cell_type": "code",
   "execution_count": null,
   "id": "c4b20095-e691-4ed8-8891-218391a981a9",
   "metadata": {},
   "outputs": [],
   "source": []
  }
 ],
 "metadata": {
  "kernelspec": {
   "display_name": "Python 3 (ipykernel)",
   "language": "python",
   "name": "python3"
  },
  "language_info": {
   "codemirror_mode": {
    "name": "ipython",
    "version": 3
   },
   "file_extension": ".py",
   "mimetype": "text/x-python",
   "name": "python",
   "nbconvert_exporter": "python",
   "pygments_lexer": "ipython3",
   "version": "3.9.12"
  }
 },
 "nbformat": 4,
 "nbformat_minor": 5
}
