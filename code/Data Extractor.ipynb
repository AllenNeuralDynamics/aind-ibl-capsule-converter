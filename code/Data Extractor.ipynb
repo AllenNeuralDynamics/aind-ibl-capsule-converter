{
 "cells": [
  {
   "cell_type": "code",
   "execution_count": 1,
   "id": "b43f5ec6-255d-46e7-8129-375b8f7ff8f4",
   "metadata": {},
   "outputs": [],
   "source": [
    "from pathlib import Path\n",
    "import numpy as np\n",
    "\n",
    "from neurodsp import fourier, utils\n",
    "from scipy import signal\n",
    "\n",
    "import spikeinterface as si\n",
    "\n",
    "import one.alf.io as alfio\n",
    "\n",
    "from tqdm import tqdm"
   ]
  },
  {
   "cell_type": "code",
   "execution_count": 2,
   "id": "1a9c483e-3ff8-4450-92ae-ae0ae92949b5",
   "metadata": {},
   "outputs": [],
   "source": [
    "session_folder = Path('/data/ecephys_661398_2023-03-31_17-01-09')\n",
    "sorting_folder = Path('/data/ecephys_661398_2023-03-31_17-01-09_sorted-ks2.5')\n",
    "ecephys_compressed_folder = session_folder / 'ecephys_compressed'\n",
    "sorting_curated_folder = sorting_folder / \"sorting_precurated\"\n",
    "postprocessed_folder = sorting_folder / 'postprocessed'\n",
    "ap_stream_name = 'experiment1_Record Node 104#Neuropix-PXI-100.ProbeA-AP'\n",
    "lfp_stream_name = 'experiment1_Record Node 104#Neuropix-PXI-100.ProbeA-LFP'"
   ]
  },
  {
   "cell_type": "code",
   "execution_count": 3,
   "id": "39532141-e14c-4d6d-8adc-e73b62e39f12",
   "metadata": {},
   "outputs": [],
   "source": [
    "RMS_WIN_LENGTH_SECS = 3\n",
    "WELCH_WIN_LENGTH_SAMPLES = 1024"
   ]
  },
  {
   "cell_type": "code",
   "execution_count": 5,
   "id": "a4f40609-bf0a-4263-886c-00c710cd3ee5",
   "metadata": {},
   "outputs": [],
   "source": [
    "is_lfp = True\n",
    "\n",
    "if is_lfp:\n",
    "    stream_name = lfp_stream_name\n",
    "else:\n",
    "    stream_name = ap_stream_name\n",
    "\n",
    "recording = si.read_zarr(ecephys_compressed_folder / f\"{stream_name}.zarr\")"
   ]
  },
  {
   "cell_type": "code",
   "execution_count": 6,
   "id": "7d6b7ff7-de70-49e0-a6d8-c793fd65aa49",
   "metadata": {},
   "outputs": [
    {
     "data": {
      "text/plain": [
       "2500.0"
      ]
     },
     "execution_count": 6,
     "metadata": {},
     "output_type": "execute_result"
    }
   ],
   "source": [
    "recording.sampling_frequency"
   ]
  },
  {
   "cell_type": "code",
   "execution_count": 7,
   "id": "03fc10bf-d70f-432f-872d-b8150fe902c0",
   "metadata": {},
   "outputs": [],
   "source": [
    "rms_win_length_samples = 2 ** np.ceil(np.log2(recording.sampling_frequency * RMS_WIN_LENGTH_SECS))\n",
    "\n",
    "# the window generator will generates window indices\n",
    "wingen = utils.WindowGenerator(ns=recording.get_num_samples(), nswin=rms_win_length_samples, overlap=0)"
   ]
  },
  {
   "cell_type": "code",
   "execution_count": 8,
   "id": "41fb4701-0b98-47e7-a2bb-0f949b6092ce",
   "metadata": {},
   "outputs": [
    {
     "data": {
      "text/plain": [
       "<neurodsp.utils.WindowGenerator at 0x7f983039e100>"
      ]
     },
     "execution_count": 8,
     "metadata": {},
     "output_type": "execute_result"
    }
   ],
   "source": [
    "wingen"
   ]
  },
  {
   "cell_type": "code",
   "execution_count": 9,
   "id": "dee98840-ca8c-4340-b6f4-e93622fea616",
   "metadata": {},
   "outputs": [],
   "source": [
    "win = {'TRMS': np.zeros((wingen.nwin, recording.get_num_channels())),\n",
    "       'nsamples': np.zeros((wingen.nwin,)),\n",
    "       'fscale': fourier.fscale(WELCH_WIN_LENGTH_SAMPLES, 1 / recording.sampling_frequency, one_sided=True),\n",
    "       'tscale': wingen.tscale(fs=recording.sampling_frequency)}\n",
    "\n",
    "win['spectral_density'] = np.zeros((len(win['fscale']), recording.get_num_channels()))"
   ]
  },
  {
   "cell_type": "code",
   "execution_count": 13,
   "id": "d69ffb98-f2d3-43a1-bc77-993dda61f29b",
   "metadata": {},
   "outputs": [
    {
     "name": "stderr",
     "output_type": "stream",
     "text": [
      "  0%|          | 0/1912 [00:01<?, ?it/s]\n"
     ]
    }
   ],
   "source": [
    "with tqdm(total=wingen.nwin) as pbar:\n",
    "    for first, last in wingen.firstlast:\n",
    "        D = recording.get_traces(start_frame=first, end_frame=last).T\n",
    "        # remove low frequency noise below 1 Hz\n",
    "        D = fourier.hp(D, 1 / recording.sampling_frequency, [0, 1])\n",
    "        iw = wingen.iw\n",
    "        win['TRMS'][iw, :] = utils.rms(D)\n",
    "        win['nsamples'][iw] = D.shape[1]\n",
    "        if is_lfp:\n",
    "            # the last window may be smaller than what is needed for welch\n",
    "            if last - first < WELCH_WIN_LENGTH_SAMPLES:\n",
    "                continue\n",
    "            # compute a smoothed spectrum using welch method\n",
    "            _, w = signal.welch(\n",
    "                D, fs=recording.sampling_frequency, window='hann', nperseg=WELCH_WIN_LENGTH_SAMPLES,\n",
    "                detrend='constant', return_onesided=True, scaling='density', axis=-1\n",
    "            )\n",
    "            win['spectral_density'] += w.T\n",
    "        # print at least every 20 windows\n",
    "        if (iw % min(20, max(int(np.floor(wingen.nwin / 75)), 1))) == 0:\n",
    "            pbar.update(iw)\n",
    "            break"
   ]
  },
  {
   "cell_type": "code",
   "execution_count": 14,
   "id": "116498e9-a523-4e9e-b683-b511bdca8be9",
   "metadata": {},
   "outputs": [],
   "source": [
    "import matplotlib.pyplot as plt\n",
    "%matplotlib inline"
   ]
  },
  {
   "cell_type": "code",
   "execution_count": 15,
   "id": "d60eecf5-ca41-4c17-ab72-75996c6086d6",
   "metadata": {},
   "outputs": [
    {
     "data": {
      "text/plain": [
       "(1912, 384)"
      ]
     },
     "execution_count": 15,
     "metadata": {},
     "output_type": "execute_result"
    }
   ],
   "source": [
    "win['TRMS'].shape"
   ]
  },
  {
   "cell_type": "code",
   "execution_count": 20,
   "id": "c85b5bbd-8d8b-4b5f-adb0-856d6b3d11eb",
   "metadata": {},
   "outputs": [
    {
     "data": {
      "text/plain": [
       "array([[8.62762922e-02, 7.11876453e-02, 1.06595478e-01, ...,\n",
       "        5.19098946e+00, 4.68620116e+00, 4.56061024e+00],\n",
       "       [2.75416936e-01, 4.46555814e-01, 5.02911647e-01, ...,\n",
       "        2.13657580e+01, 2.07657428e+01, 2.27513932e+01],\n",
       "       [1.50623046e-01, 1.81201594e-01, 2.50064894e-01, ...,\n",
       "        1.66013453e+01, 1.60617233e+01, 1.67327905e+01],\n",
       "       ...,\n",
       "       [9.75978262e-04, 1.46892988e-03, 2.40603120e-03, ...,\n",
       "        5.00695778e-04, 3.53746124e-04, 4.94532921e-04],\n",
       "       [1.32014479e-03, 1.70729702e-03, 2.62640640e-03, ...,\n",
       "        5.16154882e-04, 4.04750716e-04, 4.04899076e-04],\n",
       "       [8.53241942e-04, 9.06927108e-04, 1.17211584e-03, ...,\n",
       "        2.60385807e-04, 2.13660542e-04, 2.68476732e-04]])"
      ]
     },
     "execution_count": 20,
     "metadata": {},
     "output_type": "execute_result"
    }
   ],
   "source": [
    "win['spectral_density']"
   ]
  },
  {
   "cell_type": "code",
   "execution_count": 16,
   "id": "56fec2be-625f-4517-aa0e-c4100c10181d",
   "metadata": {},
   "outputs": [
    {
     "data": {
      "text/plain": [
       "<matplotlib.image.AxesImage at 0x7f980d0bf8e0>"
      ]
     },
     "execution_count": 16,
     "metadata": {},
     "output_type": "execute_result"
    },
    {
     "data": {
      "image/png": "[encoded data removed]",
      "text/plain": [
       "<Figure size 640x480 with 1 Axes>"
      ]
     },
     "metadata": {},
     "output_type": "display_data"
    }
   ],
   "source": [
    "plt.imshow(win['spectral_density'][:15].T, aspect='auto')"
   ]
  },
  {
   "cell_type": "code",
   "execution_count": 17,
   "id": "5c7e21b9-df80-4380-85fe-f00b87959c65",
   "metadata": {},
   "outputs": [
    {
     "data": {
      "text/plain": [
       "(513, 384)"
      ]
     },
     "execution_count": 17,
     "metadata": {},
     "output_type": "execute_result"
    }
   ],
   "source": [
    "win['spectral_density'].shape"
   ]
  },
  {
   "cell_type": "code",
   "execution_count": 69,
   "id": "8e446bc5-4d4a-4a9b-b3c3-d5de30c3c250",
   "metadata": {},
   "outputs": [],
   "source": [
    "out_path = Path('/results/')\n",
    "\n",
    "alf_object_time = f'ephysTimeRmsLFP'\n",
    "alf_object_freq = f'ephysSpectralDensityLFP'\n",
    "\n",
    "tdict = {'rms': win['TRMS'].astype(np.single), 'timestamps': win['tscale'].astype(np.single)}\n",
    "alfio.save_object_npy(out_path, object=alf_object_time, dico=tdict, namespace='iblqc')\n",
    "if spectra:\n",
    "    fdict = {'power': win['spectral_density'].astype(np.single),\n",
    "             'freqs': win['fscale'].astype(np.single)}\n",
    "    alfio.save_object_npy(\n",
    "        out_path, object=alf_object_freq, dico=fdict, namespace='iblqc')"
   ]
  },
  {
   "cell_type": "markdown",
   "id": "df861565-6894-4736-95e6-4173f095e379",
   "metadata": {},
   "source": [
    "### Try to extract the spikes"
   ]
  },
  {
   "cell_type": "code",
   "execution_count": null,
   "id": "ae62bab7-a37a-4146-900c-b6b5cca73ed2",
   "metadata": {},
   "outputs": [],
   "source": [
    "ks2_to_alf(ks_path, \n",
    "           ephys_path, \n",
    "           out_path, \n",
    "           bin_file=efile.ap,\n",
    "           ampfactor=_sample2v(efile.ap), \n",
    "           label=None, \n",
    "           force=True)"
   ]
  },
  {
   "cell_type": "code",
   "execution_count": null,
   "id": "0fd2c1db-c146-41e3-b96e-3319bf6919b6",
   "metadata": {},
   "outputs": [],
   "source": [
    "m = ephysqc.phy_model_from_ks2_path(ks2_path=ks_path, \n",
    "                                    bin_path=bin_path, \n",
    "                                    bin_file=bin_file)\n",
    "\n",
    "ac = alf.EphysAlfCreator(m)\n",
    "ac.convert(out_path, label=label, force=force, ampfactor=ampfactor)"
   ]
  },
  {
   "cell_type": "code",
   "execution_count": null,
   "id": "83214faf-e73c-491b-8633-c15a091e9fc4",
   "metadata": {},
   "outputs": [],
   "source": [
    "recording = si.read_zarr(ecephys_compressed_folder / f\"{ap_stream_name}.zarr\")\n",
    "\n",
    "fs = recording.sampling_frequency\n",
    "nch = recording.get_num_channels()"
   ]
  },
  {
   "cell_type": "code",
   "execution_count": null,
   "id": "9aa8eda7-47e0-48fc-80e0-f4ca416022da",
   "metadata": {},
   "outputs": [],
   "source": [
    "NCH_WAVEFORMS = 32  # number of channels to be saved in templates.waveforms and channels.waveforms\n",
    "\n",
    "m = model.TemplateModel(dir_path=ks2_path,\n",
    "                        dat_path=bin_file,  # this assumes the raw data is in the same folder\n",
    "                        sample_rate=fs,\n",
    "                        n_channels_dat=nch,\n",
    "                        n_closest_channels=NCH_WAVEFORMS)\n",
    "\n",
    "m.depths = m.get_depths()"
   ]
  },
  {
   "cell_type": "code",
   "execution_count": 3,
   "id": "2efee7cd-9af6-4c29-ae28-592e03494fcb",
   "metadata": {},
   "outputs": [
    {
     "name": "stderr",
     "output_type": "stream",
     "text": [
      "/opt/conda/lib/python3.9/site-packages/spikeinterface/core/base.py:998: UserWarning: Versions are not the same. This might lead compatibility errors. Using spikeinterface==0.97.1 is recommended\n",
      "  warnings.warn(\n"
     ]
    },
    {
     "ename": "ValueError",
     "evalue": "Couldn't set the WaveformExtractor recording: channel_ids do not match!\n['AP1', 'AP2', 'AP3', 'AP4', 'AP5', 'AP6', 'AP7', 'AP8', 'AP9', 'AP10', 'AP11', 'AP12', 'AP13', 'AP14', 'AP15', 'AP16', 'AP17', 'AP18', 'AP19', 'AP20', 'AP21', 'AP22', 'AP23', 'AP24', 'AP25', 'AP26', 'AP27', 'AP28', 'AP29', 'AP30', 'AP31', 'AP32', 'AP33', 'AP34', 'AP35', 'AP36', 'AP37', 'AP38', 'AP39', 'AP40', 'AP41', 'AP42', 'AP43', 'AP44', 'AP45', 'AP46', 'AP47', 'AP48', 'AP49', 'AP50', 'AP51', 'AP52', 'AP53', 'AP54', 'AP55', 'AP56', 'AP57', 'AP58', 'AP59', 'AP60', 'AP61', 'AP62', 'AP63', 'AP64', 'AP65', 'AP66', 'AP67', 'AP68', 'AP69', 'AP70', 'AP71', 'AP72', 'AP73', 'AP74', 'AP75', 'AP76', 'AP77', 'AP78', 'AP79', 'AP80', 'AP81', 'AP82', 'AP83', 'AP84', 'AP85', 'AP86', 'AP87', 'AP88', 'AP89', 'AP90', 'AP91', 'AP92', 'AP93', 'AP94', 'AP95', 'AP96', 'AP97', 'AP98', 'AP99', 'AP100', 'AP101', 'AP102', 'AP103', 'AP104', 'AP105', 'AP106', 'AP107', 'AP108', 'AP109', 'AP110', 'AP111', 'AP112', 'AP113', 'AP114', 'AP115', 'AP116', 'AP117', 'AP118', 'AP119', 'AP120', 'AP121', 'AP122', 'AP123', 'AP124', 'AP125', 'AP126', 'AP127', 'AP128', 'AP129', 'AP130', 'AP131', 'AP132', 'AP133', 'AP134', 'AP135', 'AP136', 'AP137', 'AP138', 'AP139', 'AP140', 'AP141', 'AP142', 'AP143', 'AP144', 'AP145', 'AP146', 'AP147', 'AP148', 'AP149', 'AP150', 'AP151', 'AP152', 'AP153', 'AP154', 'AP155', 'AP156', 'AP157', 'AP158', 'AP159', 'AP160', 'AP161', 'AP162', 'AP163', 'AP164', 'AP165', 'AP166', 'AP167', 'AP168', 'AP169', 'AP170', 'AP171', 'AP172', 'AP173', 'AP174', 'AP175', 'AP176', 'AP177', 'AP178', 'AP179', 'AP180', 'AP181', 'AP182', 'AP183', 'AP184', 'AP185', 'AP186', 'AP187', 'AP188', 'AP189', 'AP190', 'AP191', 'AP193', 'AP194', 'AP195', 'AP196', 'AP197', 'AP198', 'AP199', 'AP200', 'AP201', 'AP202', 'AP203', 'AP204', 'AP205', 'AP206', 'AP207', 'AP208', 'AP209', 'AP210', 'AP211', 'AP212', 'AP213', 'AP214', 'AP215', 'AP216', 'AP217', 'AP218', 'AP219', 'AP220', 'AP221', 'AP222', 'AP223', 'AP224', 'AP225', 'AP226', 'AP227', 'AP228', 'AP229', 'AP230', 'AP231', 'AP232', 'AP233', 'AP234', 'AP235', 'AP236', 'AP237', 'AP238', 'AP239', 'AP240', 'AP241', 'AP242', 'AP243', 'AP244', 'AP245', 'AP246', 'AP247', 'AP248', 'AP249', 'AP250', 'AP251', 'AP252', 'AP253', 'AP254', 'AP255', 'AP256', 'AP257', 'AP258', 'AP259', 'AP260', 'AP261', 'AP262', 'AP263', 'AP264', 'AP265', 'AP266', 'AP267', 'AP268', 'AP269', 'AP270', 'AP271', 'AP272', 'AP273', 'AP274', 'AP275', 'AP276', 'AP277', 'AP278', 'AP279', 'AP280', 'AP281', 'AP282', 'AP283', 'AP284', 'AP285', 'AP286', 'AP287', 'AP288', 'AP289', 'AP290', 'AP291', 'AP292', 'AP293', 'AP294', 'AP295', 'AP296', 'AP297', 'AP298', 'AP299', 'AP300', 'AP301', 'AP302', 'AP303', 'AP304', 'AP305', 'AP306', 'AP307', 'AP308', 'AP309', 'AP310', 'AP311', 'AP312', 'AP313', 'AP314', 'AP315', 'AP316', 'AP317', 'AP318', 'AP319', 'AP320', 'AP321', 'AP322', 'AP323', 'AP324', 'AP325', 'AP326', 'AP327', 'AP328', 'AP329', 'AP330', 'AP331', 'AP332', 'AP333', 'AP334', 'AP335', 'AP336', 'AP337', 'AP338', 'AP339', 'AP340', 'AP341', 'AP342', 'AP343', 'AP344', 'AP345', 'AP346', 'AP347', 'AP348', 'AP349', 'AP350', 'AP351', 'AP352', 'AP353', 'AP354', 'AP355', 'AP356', 'AP357', 'AP358', 'AP359']",
     "output_type": "error",
     "traceback": [
      "\u001b[0;31m---------------------------------------------------------------------------\u001b[0m",
      "\u001b[0;31mValueError\u001b[0m                                Traceback (most recent call last)",
      "Cell \u001b[0;32mIn[3], line 11\u001b[0m\n\u001b[1;32m      5\u001b[0m sorting_precurated \u001b[38;5;241m=\u001b[39m si\u001b[38;5;241m.\u001b[39mload_extractor(sorting_curated_folder \u001b[38;5;241m/\u001b[39m recording_folder_name)\n\u001b[1;32m      7\u001b[0m we \u001b[38;5;241m=\u001b[39m si\u001b[38;5;241m.\u001b[39mWaveformExtractor\u001b[38;5;241m.\u001b[39mload_from_folder(postprocessed_folder \u001b[38;5;241m/\u001b[39m \u001b[38;5;124mf\u001b[39m\u001b[38;5;124m'\u001b[39m\u001b[38;5;132;01m{\u001b[39;00map_stream_name\u001b[38;5;132;01m}\u001b[39;00m\u001b[38;5;124m_recording1\u001b[39m\u001b[38;5;124m'\u001b[39m,\n\u001b[1;32m      8\u001b[0m                                sorting\u001b[38;5;241m=\u001b[39msorting_precurated, \n\u001b[1;32m      9\u001b[0m                                with_recording\u001b[38;5;241m=\u001b[39m\u001b[38;5;28;01mFalse\u001b[39;00m)\n\u001b[0;32m---> 11\u001b[0m \u001b[43mwe\u001b[49m\u001b[38;5;241;43m.\u001b[39;49m\u001b[43mset_recording\u001b[49m\u001b[43m(\u001b[49m\u001b[43mrecording\u001b[49m\u001b[43m)\u001b[49m\n",
      "File \u001b[0;32m/opt/conda/lib/python3.9/site-packages/spikeinterface/core/waveform_extractor.py:658\u001b[0m, in \u001b[0;36mWaveformExtractor.set_recording\u001b[0;34m(self, recording, rec_attributes, allow_unfiltered)\u001b[0m\n\u001b[1;32m    656\u001b[0m     reference_channel_ids \u001b[38;5;241m=\u001b[39m rec_attributes[\u001b[38;5;124m\"\u001b[39m\u001b[38;5;124mchannel_ids\u001b[39m\u001b[38;5;124m\"\u001b[39m]\n\u001b[1;32m    657\u001b[0m \u001b[38;5;28;01mif\u001b[39;00m \u001b[38;5;129;01mnot\u001b[39;00m np\u001b[38;5;241m.\u001b[39marray_equal(reference_channel_ids, recording\u001b[38;5;241m.\u001b[39mchannel_ids):\n\u001b[0;32m--> 658\u001b[0m     \u001b[38;5;28;01mraise\u001b[39;00m \u001b[38;5;167;01mValueError\u001b[39;00m(\n\u001b[1;32m    659\u001b[0m         \u001b[38;5;124mf\u001b[39m\u001b[38;5;124m\"\u001b[39m\u001b[38;5;124mCouldn\u001b[39m\u001b[38;5;124m'\u001b[39m\u001b[38;5;124mt set the WaveformExtractor recording: channel_ids do not match!\u001b[39m\u001b[38;5;130;01m\\n\u001b[39;00m\u001b[38;5;132;01m{\u001b[39;00mreference_channel_ids\u001b[38;5;132;01m}\u001b[39;00m\u001b[38;5;124m\"\u001b[39m\n\u001b[1;32m    660\u001b[0m     )\n\u001b[1;32m    662\u001b[0m \u001b[38;5;28;01mif\u001b[39;00m \u001b[38;5;129;01mnot\u001b[39;00m recording\u001b[38;5;241m.\u001b[39mis_filtered() \u001b[38;5;129;01mand\u001b[39;00m \u001b[38;5;129;01mnot\u001b[39;00m allow_unfiltered:\n\u001b[1;32m    663\u001b[0m     \u001b[38;5;28;01mraise\u001b[39;00m \u001b[38;5;167;01mException\u001b[39;00m(\n\u001b[1;32m    664\u001b[0m         \u001b[38;5;124m\"\u001b[39m\u001b[38;5;124mThe recording is not filtered, you must filter it using `bandpass_filter()`.\u001b[39m\u001b[38;5;124m\"\u001b[39m\n\u001b[1;32m    665\u001b[0m         \u001b[38;5;124m\"\u001b[39m\u001b[38;5;124mIf the recording is already filtered, you can also do \u001b[39m\u001b[38;5;124m\"\u001b[39m\n\u001b[1;32m    666\u001b[0m         \u001b[38;5;124m\"\u001b[39m\u001b[38;5;124m`recording.annotate(is_filtered=True).\u001b[39m\u001b[38;5;130;01m\\n\u001b[39;00m\u001b[38;5;124m\"\u001b[39m\n\u001b[1;32m    667\u001b[0m         \u001b[38;5;124m\"\u001b[39m\u001b[38;5;124mIf you trully want to extract unfiltered waveforms, use `allow_unfiltered=True`.\u001b[39m\u001b[38;5;124m\"\u001b[39m\n\u001b[1;32m    668\u001b[0m     )\n",
      "\u001b[0;31mValueError\u001b[0m: Couldn't set the WaveformExtractor recording: channel_ids do not match!\n['AP1', 'AP2', 'AP3', 'AP4', 'AP5', 'AP6', 'AP7', 'AP8', 'AP9', 'AP10', 'AP11', 'AP12', 'AP13', 'AP14', 'AP15', 'AP16', 'AP17', 'AP18', 'AP19', 'AP20', 'AP21', 'AP22', 'AP23', 'AP24', 'AP25', 'AP26', 'AP27', 'AP28', 'AP29', 'AP30', 'AP31', 'AP32', 'AP33', 'AP34', 'AP35', 'AP36', 'AP37', 'AP38', 'AP39', 'AP40', 'AP41', 'AP42', 'AP43', 'AP44', 'AP45', 'AP46', 'AP47', 'AP48', 'AP49', 'AP50', 'AP51', 'AP52', 'AP53', 'AP54', 'AP55', 'AP56', 'AP57', 'AP58', 'AP59', 'AP60', 'AP61', 'AP62', 'AP63', 'AP64', 'AP65', 'AP66', 'AP67', 'AP68', 'AP69', 'AP70', 'AP71', 'AP72', 'AP73', 'AP74', 'AP75', 'AP76', 'AP77', 'AP78', 'AP79', 'AP80', 'AP81', 'AP82', 'AP83', 'AP84', 'AP85', 'AP86', 'AP87', 'AP88', 'AP89', 'AP90', 'AP91', 'AP92', 'AP93', 'AP94', 'AP95', 'AP96', 'AP97', 'AP98', 'AP99', 'AP100', 'AP101', 'AP102', 'AP103', 'AP104', 'AP105', 'AP106', 'AP107', 'AP108', 'AP109', 'AP110', 'AP111', 'AP112', 'AP113', 'AP114', 'AP115', 'AP116', 'AP117', 'AP118', 'AP119', 'AP120', 'AP121', 'AP122', 'AP123', 'AP124', 'AP125', 'AP126', 'AP127', 'AP128', 'AP129', 'AP130', 'AP131', 'AP132', 'AP133', 'AP134', 'AP135', 'AP136', 'AP137', 'AP138', 'AP139', 'AP140', 'AP141', 'AP142', 'AP143', 'AP144', 'AP145', 'AP146', 'AP147', 'AP148', 'AP149', 'AP150', 'AP151', 'AP152', 'AP153', 'AP154', 'AP155', 'AP156', 'AP157', 'AP158', 'AP159', 'AP160', 'AP161', 'AP162', 'AP163', 'AP164', 'AP165', 'AP166', 'AP167', 'AP168', 'AP169', 'AP170', 'AP171', 'AP172', 'AP173', 'AP174', 'AP175', 'AP176', 'AP177', 'AP178', 'AP179', 'AP180', 'AP181', 'AP182', 'AP183', 'AP184', 'AP185', 'AP186', 'AP187', 'AP188', 'AP189', 'AP190', 'AP191', 'AP193', 'AP194', 'AP195', 'AP196', 'AP197', 'AP198', 'AP199', 'AP200', 'AP201', 'AP202', 'AP203', 'AP204', 'AP205', 'AP206', 'AP207', 'AP208', 'AP209', 'AP210', 'AP211', 'AP212', 'AP213', 'AP214', 'AP215', 'AP216', 'AP217', 'AP218', 'AP219', 'AP220', 'AP221', 'AP222', 'AP223', 'AP224', 'AP225', 'AP226', 'AP227', 'AP228', 'AP229', 'AP230', 'AP231', 'AP232', 'AP233', 'AP234', 'AP235', 'AP236', 'AP237', 'AP238', 'AP239', 'AP240', 'AP241', 'AP242', 'AP243', 'AP244', 'AP245', 'AP246', 'AP247', 'AP248', 'AP249', 'AP250', 'AP251', 'AP252', 'AP253', 'AP254', 'AP255', 'AP256', 'AP257', 'AP258', 'AP259', 'AP260', 'AP261', 'AP262', 'AP263', 'AP264', 'AP265', 'AP266', 'AP267', 'AP268', 'AP269', 'AP270', 'AP271', 'AP272', 'AP273', 'AP274', 'AP275', 'AP276', 'AP277', 'AP278', 'AP279', 'AP280', 'AP281', 'AP282', 'AP283', 'AP284', 'AP285', 'AP286', 'AP287', 'AP288', 'AP289', 'AP290', 'AP291', 'AP292', 'AP293', 'AP294', 'AP295', 'AP296', 'AP297', 'AP298', 'AP299', 'AP300', 'AP301', 'AP302', 'AP303', 'AP304', 'AP305', 'AP306', 'AP307', 'AP308', 'AP309', 'AP310', 'AP311', 'AP312', 'AP313', 'AP314', 'AP315', 'AP316', 'AP317', 'AP318', 'AP319', 'AP320', 'AP321', 'AP322', 'AP323', 'AP324', 'AP325', 'AP326', 'AP327', 'AP328', 'AP329', 'AP330', 'AP331', 'AP332', 'AP333', 'AP334', 'AP335', 'AP336', 'AP337', 'AP338', 'AP339', 'AP340', 'AP341', 'AP342', 'AP343', 'AP344', 'AP345', 'AP346', 'AP347', 'AP348', 'AP349', 'AP350', 'AP351', 'AP352', 'AP353', 'AP354', 'AP355', 'AP356', 'AP357', 'AP358', 'AP359']"
     ]
    }
   ],
   "source": [
    "recording = si.read_zarr(ecephys_compressed_folder / f\"{ap_stream_name}.zarr\")\n",
    "\n",
    "recording_folder_name = f'{ap_stream_name}_recording1'\n",
    "\n",
    "sorting_precurated = si.load_extractor(sorting_curated_folder / recording_folder_name)\n",
    "\n",
    "we = si.WaveformExtractor.load_from_folder(postprocessed_folder / f'{ap_stream_name}_recording1',\n",
    "                               sorting=sorting_precurated, \n",
    "                               with_recording=False)\n",
    "\n",
    "we.set_recording(recording)"
   ]
  },
  {
   "cell_type": "code",
   "execution_count": 7,
   "id": "37277c0e-b635-4eb2-916d-27c466d61bb9",
   "metadata": {},
   "outputs": [
    {
     "data": {
      "text/plain": [
       "array(['AP1', 'AP2', 'AP3', 'AP4', 'AP5', 'AP6', 'AP7', 'AP8', 'AP9',\n",
       "       'AP10', 'AP11', 'AP12', 'AP13', 'AP14', 'AP15', 'AP16', 'AP17',\n",
       "       'AP18', 'AP19', 'AP20', 'AP21', 'AP22', 'AP23', 'AP24', 'AP25',\n",
       "       'AP26', 'AP27', 'AP28', 'AP29', 'AP30', 'AP31', 'AP32', 'AP33',\n",
       "       'AP34', 'AP35', 'AP36', 'AP37', 'AP38', 'AP39', 'AP40', 'AP41',\n",
       "       'AP42', 'AP43', 'AP44', 'AP45', 'AP46', 'AP47', 'AP48', 'AP49',\n",
       "       'AP50', 'AP51', 'AP52', 'AP53', 'AP54', 'AP55', 'AP56', 'AP57',\n",
       "       'AP58', 'AP59', 'AP60', 'AP61', 'AP62', 'AP63', 'AP64', 'AP65',\n",
       "       'AP66', 'AP67', 'AP68', 'AP69', 'AP70', 'AP71', 'AP72', 'AP73',\n",
       "       'AP74', 'AP75', 'AP76', 'AP77', 'AP78', 'AP79', 'AP80', 'AP81',\n",
       "       'AP82', 'AP83', 'AP84', 'AP85', 'AP86', 'AP87', 'AP88', 'AP89',\n",
       "       'AP90', 'AP91', 'AP92', 'AP93', 'AP94', 'AP95', 'AP96', 'AP97',\n",
       "       'AP98', 'AP99', 'AP100', 'AP101', 'AP102', 'AP103', 'AP104',\n",
       "       'AP105', 'AP106', 'AP107', 'AP108', 'AP109', 'AP110', 'AP111',\n",
       "       'AP112', 'AP113', 'AP114', 'AP115', 'AP116', 'AP117', 'AP118',\n",
       "       'AP119', 'AP120', 'AP121', 'AP122', 'AP123', 'AP124', 'AP125',\n",
       "       'AP126', 'AP127', 'AP128', 'AP129', 'AP130', 'AP131', 'AP132',\n",
       "       'AP133', 'AP134', 'AP135', 'AP136', 'AP137', 'AP138', 'AP139',\n",
       "       'AP140', 'AP141', 'AP142', 'AP143', 'AP144', 'AP145', 'AP146',\n",
       "       'AP147', 'AP148', 'AP149', 'AP150', 'AP151', 'AP152', 'AP153',\n",
       "       'AP154', 'AP155', 'AP156', 'AP157', 'AP158', 'AP159', 'AP160',\n",
       "       'AP161', 'AP162', 'AP163', 'AP164', 'AP165', 'AP166', 'AP167',\n",
       "       'AP168', 'AP169', 'AP170', 'AP171', 'AP172', 'AP173', 'AP174',\n",
       "       'AP175', 'AP176', 'AP177', 'AP178', 'AP179', 'AP180', 'AP181',\n",
       "       'AP182', 'AP183', 'AP184', 'AP185', 'AP186', 'AP187', 'AP188',\n",
       "       'AP189', 'AP190', 'AP191', 'AP193', 'AP194', 'AP195', 'AP196',\n",
       "       'AP197', 'AP198', 'AP199', 'AP200', 'AP201', 'AP202', 'AP203',\n",
       "       'AP204', 'AP205', 'AP206', 'AP207', 'AP208', 'AP209', 'AP210',\n",
       "       'AP211', 'AP212', 'AP213', 'AP214', 'AP215', 'AP216', 'AP217',\n",
       "       'AP218', 'AP219', 'AP220', 'AP221', 'AP222', 'AP223', 'AP224',\n",
       "       'AP225', 'AP226', 'AP227', 'AP228', 'AP229', 'AP230', 'AP231',\n",
       "       'AP232', 'AP233', 'AP234', 'AP235', 'AP236', 'AP237', 'AP238',\n",
       "       'AP239', 'AP240', 'AP241', 'AP242', 'AP243', 'AP244', 'AP245',\n",
       "       'AP246', 'AP247', 'AP248', 'AP249', 'AP250', 'AP251', 'AP252',\n",
       "       'AP253', 'AP254', 'AP255', 'AP256', 'AP257', 'AP258', 'AP259',\n",
       "       'AP260', 'AP261', 'AP262', 'AP263', 'AP264', 'AP265', 'AP266',\n",
       "       'AP267', 'AP268', 'AP269', 'AP270', 'AP271', 'AP272', 'AP273',\n",
       "       'AP274', 'AP275', 'AP276', 'AP277', 'AP278', 'AP279', 'AP280',\n",
       "       'AP281', 'AP282', 'AP283', 'AP284', 'AP285', 'AP286', 'AP287',\n",
       "       'AP288', 'AP289', 'AP290', 'AP291', 'AP292', 'AP293', 'AP294',\n",
       "       'AP295', 'AP296', 'AP297', 'AP298', 'AP299', 'AP300', 'AP301',\n",
       "       'AP302', 'AP303', 'AP304', 'AP305', 'AP306', 'AP307', 'AP308',\n",
       "       'AP309', 'AP310', 'AP311', 'AP312', 'AP313', 'AP314', 'AP315',\n",
       "       'AP316', 'AP317', 'AP318', 'AP319', 'AP320', 'AP321', 'AP322',\n",
       "       'AP323', 'AP324', 'AP325', 'AP326', 'AP327', 'AP328', 'AP329',\n",
       "       'AP330', 'AP331', 'AP332', 'AP333', 'AP334', 'AP335', 'AP336',\n",
       "       'AP337', 'AP338', 'AP339', 'AP340', 'AP341', 'AP342', 'AP343',\n",
       "       'AP344', 'AP345', 'AP346', 'AP347', 'AP348', 'AP349', 'AP350',\n",
       "       'AP351', 'AP352', 'AP353', 'AP354', 'AP355', 'AP356', 'AP357',\n",
       "       'AP358', 'AP359'], dtype='<U5')"
      ]
     },
     "execution_count": 7,
     "metadata": {},
     "output_type": "execute_result"
    }
   ],
   "source": [
    "we.channel_ids"
   ]
  },
  {
   "cell_type": "code",
   "execution_count": null,
   "id": "5fd20a45-21f7-44d5-8bed-5b38f2d0e1c6",
   "metadata": {},
   "outputs": [],
   "source": [
    "from spikeinterface.preprocessing import "
   ]
  },
  {
   "cell_type": "code",
   "execution_count": null,
   "id": "69545600-a224-458a-8ac4-e8ec55838603",
   "metadata": {},
   "outputs": [],
   "source": [
    "recording.s"
   ]
  },
  {
   "cell_type": "code",
   "execution_count": 21,
   "id": "f062a990-7ba6-4212-aec8-266330fad94c",
   "metadata": {},
   "outputs": [],
   "source": [
    "from spikeinterface.exporters import export_to_phy"
   ]
  },
  {
   "cell_type": "code",
   "execution_count": 22,
   "id": "0c1f8113-81f1-4208-9c12-54b9823fd1a4",
   "metadata": {},
   "outputs": [
    {
     "ename": "ValueError",
     "evalue": "WaveformExtractor is used in mode \"with_recording=False\" this operation needs the recording",
     "output_type": "error",
     "traceback": [
      "\u001b[0;31m---------------------------------------------------------------------------\u001b[0m",
      "\u001b[0;31mValueError\u001b[0m                                Traceback (most recent call last)",
      "Cell \u001b[0;32mIn[22], line 1\u001b[0m\n\u001b[0;32m----> 1\u001b[0m \u001b[43mexport_to_phy\u001b[49m\u001b[43m(\u001b[49m\u001b[43mwe\u001b[49m\u001b[43m,\u001b[49m\u001b[43m \u001b[49m\u001b[43moutput_folder\u001b[49m\u001b[38;5;241;43m=\u001b[39;49m\u001b[38;5;124;43m'\u001b[39;49m\u001b[38;5;124;43m/results/phy\u001b[39;49m\u001b[38;5;124;43m'\u001b[39;49m\u001b[43m)\u001b[49m\n",
      "File \u001b[0;32m/opt/conda/lib/python3.9/site-packages/spikeinterface/exporters/to_phy.py:62\u001b[0m, in \u001b[0;36mexport_to_phy\u001b[0;34m(waveform_extractor, output_folder, compute_pc_features, compute_amplitudes, sparsity_dict, copy_binary, max_channels_per_template, remove_if_exists, peak_sign, template_mode, dtype, verbose, **job_kwargs)\u001b[0m\n\u001b[1;32m     21\u001b[0m \u001b[38;5;250m\u001b[39m\u001b[38;5;124;03m\"\"\"\u001b[39;00m\n\u001b[1;32m     22\u001b[0m \u001b[38;5;124;03mExports a waveform extractor to the phy template-gui format.\u001b[39;00m\n\u001b[1;32m     23\u001b[0m \n\u001b[0;32m   (...)\u001b[0m\n\u001b[1;32m     58\u001b[0m \u001b[38;5;124;03m\u001b[39;00m\n\u001b[1;32m     59\u001b[0m \u001b[38;5;124;03m\"\"\"\u001b[39;00m\n\u001b[1;32m     60\u001b[0m \u001b[38;5;28;01massert\u001b[39;00m \u001b[38;5;28misinstance\u001b[39m(waveform_extractor, spikeinterface\u001b[38;5;241m.\u001b[39mcore\u001b[38;5;241m.\u001b[39mwaveform_extractor\u001b[38;5;241m.\u001b[39mWaveformExtractor), \\\n\u001b[1;32m     61\u001b[0m     \u001b[38;5;124m'\u001b[39m\u001b[38;5;124mwaveform_extractor must be a WaveformExtractor object\u001b[39m\u001b[38;5;124m'\u001b[39m\n\u001b[0;32m---> 62\u001b[0m recording \u001b[38;5;241m=\u001b[39m \u001b[43mwaveform_extractor\u001b[49m\u001b[38;5;241;43m.\u001b[39;49m\u001b[43mrecording\u001b[49m\n\u001b[1;32m     63\u001b[0m sorting \u001b[38;5;241m=\u001b[39m waveform_extractor\u001b[38;5;241m.\u001b[39msorting\n\u001b[1;32m     65\u001b[0m \u001b[38;5;28;01massert\u001b[39;00m recording\u001b[38;5;241m.\u001b[39mget_num_segments() \u001b[38;5;241m==\u001b[39m sorting\u001b[38;5;241m.\u001b[39mget_num_segments(), \\\n\u001b[1;32m     66\u001b[0m     \u001b[38;5;124m\"\u001b[39m\u001b[38;5;124mThe recording and sorting objects must have the same number of segments!\u001b[39m\u001b[38;5;124m\"\u001b[39m\n",
      "File \u001b[0;32m/opt/conda/lib/python3.9/site-packages/spikeinterface/core/waveform_extractor.py:218\u001b[0m, in \u001b[0;36mWaveformExtractor.recording\u001b[0;34m(self)\u001b[0m\n\u001b[1;32m    215\u001b[0m \u001b[38;5;129m@property\u001b[39m\n\u001b[1;32m    216\u001b[0m \u001b[38;5;28;01mdef\u001b[39;00m \u001b[38;5;21mrecording\u001b[39m(\u001b[38;5;28mself\u001b[39m):\n\u001b[1;32m    217\u001b[0m     \u001b[38;5;28;01mif\u001b[39;00m \u001b[38;5;28mself\u001b[39m\u001b[38;5;241m.\u001b[39m_recording \u001b[38;5;129;01mis\u001b[39;00m \u001b[38;5;28;01mNone\u001b[39;00m:\n\u001b[0;32m--> 218\u001b[0m         \u001b[38;5;28;01mraise\u001b[39;00m \u001b[38;5;167;01mValueError\u001b[39;00m(\u001b[38;5;124m'\u001b[39m\u001b[38;5;124mWaveformExtractor is used in mode \u001b[39m\u001b[38;5;124m\"\u001b[39m\u001b[38;5;124mwith_recording=False\u001b[39m\u001b[38;5;124m\"\u001b[39m\u001b[38;5;124m \u001b[39m\u001b[38;5;124m'\u001b[39m\n\u001b[1;32m    219\u001b[0m                          \u001b[38;5;124m'\u001b[39m\u001b[38;5;124mthis operation needs the recording\u001b[39m\u001b[38;5;124m'\u001b[39m)\n\u001b[1;32m    220\u001b[0m     \u001b[38;5;28;01mreturn\u001b[39;00m \u001b[38;5;28mself\u001b[39m\u001b[38;5;241m.\u001b[39m_recording\n",
      "\u001b[0;31mValueError\u001b[0m: WaveformExtractor is used in mode \"with_recording=False\" this operation needs the recording"
     ]
    }
   ],
   "source": [
    "export_to_phy(we, output_folder='/results/phy')"
   ]
  },
  {
   "cell_type": "code",
   "execution_count": 18,
   "id": "4b693d00-6f73-47f6-bd0b-5b6d90351335",
   "metadata": {},
   "outputs": [
    {
     "data": {
      "text/plain": [
       "'0.96.0'"
      ]
     },
     "execution_count": 18,
     "metadata": {},
     "output_type": "execute_result"
    }
   ],
   "source": [
    "si.__version__"
   ]
  },
  {
   "cell_type": "code",
   "execution_count": 20,
   "id": "83cdefaa-2509-4ed0-9df9-880e9573255a",
   "metadata": {},
   "outputs": [
    {
     "ename": "AttributeError",
     "evalue": "module 'spikeinterface' has no attribute 'exporters'",
     "output_type": "error",
     "traceback": [
      "\u001b[0;31m---------------------------------------------------------------------------\u001b[0m",
      "\u001b[0;31mAttributeError\u001b[0m                            Traceback (most recent call last)",
      "Cell \u001b[0;32mIn[20], line 1\u001b[0m\n\u001b[0;32m----> 1\u001b[0m exp \u001b[38;5;241m=\u001b[39m \u001b[43msi\u001b[49m\u001b[38;5;241;43m.\u001b[39;49m\u001b[43mexporters\u001b[49m\n",
      "\u001b[0;31mAttributeError\u001b[0m: module 'spikeinterface' has no attribute 'exporters'"
     ]
    }
   ],
   "source": [
    "exp = si.exporters"
   ]
  },
  {
   "cell_type": "code",
   "execution_count": null,
   "id": "8ad16b5d-8ffc-4737-9d22-013a01faf4f9",
   "metadata": {},
   "outputs": [],
   "source": []
  }
 ],
 "metadata": {
  "kernelspec": {
   "display_name": "Python 3 (ipykernel)",
   "language": "python",
   "name": "python3"
  },
  "language_info": {
   "codemirror_mode": {
    "name": "ipython",
    "version": 3
   },
   "file_extension": ".py",
   "mimetype": "text/x-python",
   "name": "python",
   "nbconvert_exporter": "python",
   "pygments_lexer": "ipython3",
   "version": "3.9.12"
  }
 },
 "nbformat": 4,
 "nbformat_minor": 5
}
