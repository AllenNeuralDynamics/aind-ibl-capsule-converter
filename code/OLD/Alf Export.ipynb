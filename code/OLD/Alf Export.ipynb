{
 "cells": [
  {
   "cell_type": "code",
   "execution_count": 1,
   "id": "3ae746f6-e330-47f9-b2bf-066182917c68",
   "metadata": {
    "tags": []
   },
   "outputs": [],
   "source": [
    "import numpy as np\n",
    "from pathlib import Path\n",
    "import shutil\n",
    "import os\n",
    "import glob\n",
    "\n",
    "import spikeinterface as si\n",
    "from spikeinterface.exporters import export_to_phy"
   ]
  },
  {
   "cell_type": "code",
   "execution_count": null,
   "id": "8bfeffa8-b6a2-47d4-8adf-7fe4b670a7a1",
   "metadata": {},
   "outputs": [],
   "source": [
    "# set up directories\n",
    "\n",
    "sorting_folder = Path(glob.glob('/data/ecephys_*sorted*')[0])\n",
    "\n",
    "session_folder = Path(str(sorting_folder).split('_sorted')[0])\n",
    "scratch_folder = Path('/scratch')\n",
    "results_folder = Path('/results')\n",
    "\n",
    "ecephys_folder = session_folder / \"ecephys_clipped\"\n",
    "ecephys_compressed_folder = session_folder / 'ecephys_compressed'\n",
    "\n",
    "sorting_curated_folder = sorting_folder / \"sorting_precurated\"\n",
    "postprocessed_folder = sorting_folder / 'postprocessed'"
   ]
  },
  {
   "cell_type": "code",
   "execution_count": null,
   "id": "7999695f-9e87-452a-938c-2a12f44122a7",
   "metadata": {},
   "outputs": [],
   "source": [
    "# extract stream names\n",
    "\n",
    "stream_names, stream_ids = se.get_neo_streams(\"openephys\", ecephys_folder)\n",
    "\n",
    "neuropix_streams = [s for s in stream_names if 'Neuropix' in s]\n",
    "probe_names = [s.split('.')[1].split('-')[0] for s in neuropix_streams]"
   ]
  },
  {
   "cell_type": "code",
   "execution_count": 2,
   "id": "0018cb6c-46dc-4d1c-b5c8-7e1569a2b5e8",
   "metadata": {
    "tags": []
   },
   "outputs": [],
   "source": [
    "probe_name = 'ProbeB'\n",
    "\n",
    "data_directories = glob.glob('/data/ecephys_*')\n",
    "data_directories.sort()\n",
    "\n",
    "session_folder = Path(data_directories[0])\n",
    "sorting_folder = Path(data_directories[1])\n",
    "scratch_folder = Path('/scratch')\n",
    "results_folder = Path('/results')\n",
    "output_folder = results_folder / probe_name\n",
    "\n",
    "if not os.path.exists(output_folder):\n",
    "    os.mkdir(output_folder)\n",
    "ecephys_compressed_folder = session_folder / 'ecephys_compressed'\n",
    "sorting_curated_folder = sorting_folder / \"sorting_precurated\"\n",
    "postprocessed_folder = sorting_folder / 'postprocessed'\n",
    "ap_stream_name = f'experiment1_Record Node 104#Neuropix-PXI-100.{probe_name}-AP'\n",
    "lfp_stream_name = f'experiment1_Record Node 104#Neuropix-PXI-100.{probe_name}-LFP'"
   ]
  },
  {
   "cell_type": "code",
   "execution_count": 4,
   "id": "79861f58-a0ae-4c86-b82b-ca3107451590",
   "metadata": {
    "tags": []
   },
   "outputs": [],
   "source": [
    "we_recless = si.load_waveforms(postprocessed_folder / f'{ap_stream_name}_recording1', \n",
    "                               with_recording=False)"
   ]
  },
  {
   "cell_type": "code",
   "execution_count": 12,
   "id": "e9abb962-4b92-485e-9660-5a2cf9eb4486",
   "metadata": {
    "tags": []
   },
   "outputs": [],
   "source": [
    "channel_inds = np.array([int(name[2:])-1 for name in we_recless.channel_ids])"
   ]
  },
  {
   "cell_type": "code",
   "execution_count": 5,
   "id": "91535526-1275-4bc5-ad79-955c6e0a9c48",
   "metadata": {
    "tags": []
   },
   "outputs": [],
   "source": [
    "phy_folder = scratch_folder / f\"{postprocessed_folder.parent.name}_phy\""
   ]
  },
  {
   "cell_type": "code",
   "execution_count": 6,
   "id": "9c2367e6-b5f5-4b22-9f2f-39206d096b53",
   "metadata": {
    "tags": []
   },
   "outputs": [
    {
     "name": "stdout",
     "output_type": "stream",
     "text": [
      "Run:\n",
      "phy template-gui  /results/ecephys_661398_2023-03-31_17-01-09_sorted-ks2.5_phy/params.py\n"
     ]
    }
   ],
   "source": [
    "export_to_phy(we_recless, \n",
    "                   output_folder=phy_folder,\n",
    "                   compute_pc_features=False,\n",
    "                   remove_if_exists=True,\n",
    "                   copy_binary=False)"
   ]
  },
  {
   "cell_type": "code",
   "execution_count": 7,
   "id": "8a7e6c45-ea54-4cdf-b6fa-7d7faaa9689b",
   "metadata": {
    "tags": []
   },
   "outputs": [],
   "source": [
    "spike_locations = we_recless.load_extension(\"spike_locations\").get_data()\n",
    "spike_depths = spike_locations[\"y\"]"
   ]
  },
  {
   "cell_type": "code",
   "execution_count": 8,
   "id": "3e44f1da-58c0-4746-8103-6dcd2cef2789",
   "metadata": {
    "tags": []
   },
   "outputs": [],
   "source": [
    "# convert clusters and squeeze\n",
    "\n",
    "clusters = np.load(phy_folder / \"spike_clusters.npy\")\n",
    "np.save(phy_folder / \"spike_clusters.npy\", np.squeeze(clusters.astype('uint32')))"
   ]
  },
  {
   "cell_type": "code",
   "execution_count": 9,
   "id": "1beca79b-8c32-4207-9ace-6aa3fed6121e",
   "metadata": {
    "tags": []
   },
   "outputs": [],
   "source": [
    "# convert times and squeeze\n",
    "\n",
    "times = np.load(phy_folder / \"spike_times.npy\")\n",
    "np.save(phy_folder / \"spike_times.npy\", np.squeeze(times / 30000.).astype('float64'))"
   ]
  },
  {
   "cell_type": "code",
   "execution_count": 10,
   "id": "0c21006f-3693-4787-bd15-8e7caac4550e",
   "metadata": {
    "tags": []
   },
   "outputs": [],
   "source": [
    "# convert amplitudes and squeeze\n",
    "\n",
    "amps = np.load(phy_folder / \"amplitudes.npy\")\n",
    "np.save(phy_folder / \"amplitudes.npy\", np.squeeze(-amps / 1e6).astype('float64'))"
   ]
  },
  {
   "cell_type": "code",
   "execution_count": 13,
   "id": "9c46719a-14e5-409e-b07d-06c6c988d0bd",
   "metadata": {
    "tags": []
   },
   "outputs": [],
   "source": [
    "np.save(phy_folder / \"spike_depths.npy\", spike_depths)\n",
    "np.save(phy_folder / \"channel_inds.npy\", np.arange(len(channel_inds), dtype='int'))"
   ]
  },
  {
   "cell_type": "code",
   "execution_count": 16,
   "id": "8af8df25-a5bf-4e80-b163-7f62b10e519a",
   "metadata": {
    "tags": []
   },
   "outputs": [],
   "source": [
    "cluster_channels = []\n",
    "cluster_peakToTrough = []\n",
    "cluster_waveforms = []\n",
    "num_chans = []\n",
    "\n",
    "templates = we_recless.get_all_templates()\n",
    "channel_locs = we_recless.get_channel_locations()\n",
    "\n",
    "for unit_idx, unit_id in enumerate(we_recless.unit_ids):\n",
    "    waveform = templates[unit_idx,:,:]\n",
    "    peak_channel = np.argmax(np.max(waveform, 0) - np.min(waveform,0))\n",
    "    peak_waveform = waveform[:,peak_channel]\n",
    "    peakToTrough = (np.argmax(peak_waveform) - np.argmin(peak_waveform)) / 30000.\n",
    "    cluster_channels.append(int(channel_locs[peak_channel,1] / 10))\n",
    "    cluster_peakToTrough.append(peakToTrough)\n",
    "    cluster_waveforms.append(waveform)"
   ]
  },
  {
   "cell_type": "code",
   "execution_count": 17,
   "id": "78fdd590-ac6d-4654-8a1d-4f1dd74007d5",
   "metadata": {
    "tags": []
   },
   "outputs": [],
   "source": [
    "np.save(phy_folder / \"cluster_peakToTrough.npy\", np.array(cluster_peakToTrough))\n",
    "np.save(phy_folder / \"cluster_waveforms.npy\", np.stack(cluster_waveforms))\n",
    "np.save(phy_folder / \"cluster_channels.npy\", np.array(cluster_channels))"
   ]
  },
  {
   "cell_type": "code",
   "execution_count": 18,
   "id": "6f924aae-1e2b-4fc8-bac0-3d295806f6cd",
   "metadata": {
    "tags": []
   },
   "outputs": [],
   "source": [
    "_FILE_RENAMES = [  # file_in, file_out\n",
    "    ('channel_positions.npy', 'channels.localCoordinates.npy'),\n",
    "    ('channel_inds.npy', 'channels.rawInd.npy'),\n",
    "    ('cluster_peakToTrough.npy', 'clusters.peakToTrough.npy'),\n",
    "    ('cluster_channels.npy', 'clusters.channels.npy'),\n",
    "    ('cluster_waveforms.npy', 'clusters.waveforms.npy'),\n",
    "    ('spike_clusters.npy', 'spikes.clusters.npy'),\n",
    "    ('amplitudes.npy', 'spikes.amps.npy'),\n",
    "    ('spike_depths.npy', 'spikes.depths.npy'),\n",
    "    ('spike_times.npy', 'spikes.times.npy'),\n",
    "]"
   ]
  },
  {
   "cell_type": "code",
   "execution_count": 19,
   "id": "0499eb94-a26c-4e6b-baca-3ba8f7db6358",
   "metadata": {
    "tags": []
   },
   "outputs": [],
   "source": [
    "input_directory = phy_folder\n",
    "output_directory = Path('/results') / probe_name\n",
    "\n",
    "if not os.path.exists(output_directory):\n",
    "    os.mkdir(output_directory)\n",
    "\n",
    "for names in _FILE_RENAMES:\n",
    "    input = input_directory / names[0]\n",
    "    output = output_directory / names[1]\n",
    "    shutil.copyfile(input, output)"
   ]
  },
  {
   "cell_type": "code",
   "execution_count": 20,
   "id": "e11475cc-3003-4af1-8440-78ef191a0271",
   "metadata": {
    "tags": []
   },
   "outputs": [],
   "source": [
    "qm = we_recless.load_extension(\"quality_metrics\")"
   ]
  },
  {
   "cell_type": "code",
   "execution_count": 21,
   "id": "0320cfbe-634e-4300-b68f-fd4d251a4ccc",
   "metadata": {
    "tags": []
   },
   "outputs": [],
   "source": [
    "qm_data = qm.get_data()"
   ]
  },
  {
   "cell_type": "code",
   "execution_count": 22,
   "id": "d2fb762a-3c61-4f49-a3b2-88577e9319f3",
   "metadata": {
    "tags": []
   },
   "outputs": [],
   "source": [
    "qm_data.index.name = 'cluster_id'\n",
    "qm_data['cluster_id.1'] = qm_data.index.values"
   ]
  },
  {
   "cell_type": "code",
   "execution_count": 23,
   "id": "61c9b249-3ca6-4efc-94ef-31358da9bc27",
   "metadata": {
    "tags": []
   },
   "outputs": [],
   "source": [
    "qm_data.to_csv(output_folder / 'clusters.metrics.csv')"
   ]
  },
  {
   "cell_type": "code",
   "execution_count": null,
   "id": "a31214cb-8157-4c62-91e2-095bc1495062",
   "metadata": {},
   "outputs": [],
   "source": []
  }
 ],
 "metadata": {
  "kernelspec": {
   "display_name": "Python 3 (ipykernel)",
   "language": "python",
   "name": "python3"
  },
  "language_info": {
   "codemirror_mode": {
    "name": "ipython",
    "version": 3
   },
   "file_extension": ".py",
   "mimetype": "text/x-python",
   "name": "python",
   "nbconvert_exporter": "python",
   "pygments_lexer": "ipython3",
   "version": "3.9.12"
  }
 },
 "nbformat": 4,
 "nbformat_minor": 5
}
