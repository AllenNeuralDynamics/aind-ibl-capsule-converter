{
 "cells": [
  {
   "cell_type": "code",
   "execution_count": 12,
   "id": "b43f5ec6-255d-46e7-8129-375b8f7ff8f4",
   "metadata": {
    "tags": []
   },
   "outputs": [],
   "source": [
    "import glob\n",
    "import os\n",
    "\n",
    "import numpy as np\n",
    "from scipy import signal\n",
    "\n",
    "from pathlib import Path\n",
    "from tqdm import tqdm\n",
    "\n",
    "import spikeinterface as si\n",
    "import spikeinterface.extractors as se\n",
    "\n",
    "import one.alf.io as alfio\n",
    "\n",
    "from utils import WindowGenerator, fscale, hp, rms"
   ]
  },
  {
   "cell_type": "code",
   "execution_count": 19,
   "id": "748831e7-5420-4d45-8b6a-8586e773c508",
   "metadata": {
    "tags": []
   },
   "outputs": [],
   "source": [
    "# set up directories\n",
    "\n",
    "sorting_folder = Path(glob.glob(\"/data/ecephys_*sorted*\")[0])\n",
    "\n",
    "session_folder = Path(str(sorting_folder).split(\"_sorted\")[0])\n",
    "scratch_folder = Path(\"/scratch\")\n",
    "results_folder = Path(\"/results\")\n",
    "\n",
    "ecephys_folder = session_folder / \"ecephys_clipped\"\n",
    "ecephys_compressed_folder = session_folder / \"ecephys_compressed\"\n",
    "\n",
    "sorting_curated_folder = sorting_folder / \"sorting_precurated\"\n",
    "postprocessed_folder = sorting_folder / \"postprocessed\""
   ]
  },
  {
   "cell_type": "code",
   "execution_count": 20,
   "id": "8660b001-a8fc-4e7b-99e9-414b998983d3",
   "metadata": {
    "tags": []
   },
   "outputs": [],
   "source": [
    "stream_names, stream_ids = se.get_neo_streams(\"openephys\", ecephys_folder)\n",
    "\n",
    "neuropix_streams = [s for s in stream_names if \"Neuropix\" in s]"
   ]
  },
  {
   "cell_type": "code",
   "execution_count": 37,
   "id": "c1a81477-7764-4b3f-b31f-5fe4675b207f",
   "metadata": {
    "tags": []
   },
   "outputs": [],
   "source": [
    "neuropix_streams = [s for s in stream_names if \"Neuropix\" in s]\n",
    "probe_names = [s.split(\".\")[1].split(\"-\")[0] for s in neuropix_streams]"
   ]
  },
  {
   "cell_type": "code",
   "execution_count": 49,
   "id": "1a9c483e-3ff8-4450-92ae-ae0ae92949b5",
   "metadata": {
    "tags": []
   },
   "outputs": [
    {
     "name": "stdout",
     "output_type": "stream",
     "text": [
      "Record Node 104#Neuropix-PXI-100.ProbeA-AP\n",
      "/data/ecephys_661398_2023-03-31_17-01-09_sorted-ks2.5/postprocessed/experiment1_Record Node 104#Neuropix-PXI-100.ProbeA-AP_recording1\n",
      "30000.0\n"
     ]
    },
    {
     "name": "stderr",
     "output_type": "stream",
     "text": [
      "  0%|          | 0/1 [00:01<?, ?it/s]\n"
     ]
    },
    {
     "name": "stdout",
     "output_type": "stream",
     "text": [
      "Record Node 104#Neuropix-PXI-100.ProbeA-LFP\n",
      "/data/ecephys_661398_2023-03-31_17-01-09_sorted-ks2.5/postprocessed/experiment1_Record Node 104#Neuropix-PXI-100.ProbeA-AP_recording1\n",
      "2500.0\n"
     ]
    },
    {
     "name": "stderr",
     "output_type": "stream",
     "text": [
      "6it [00:03,  1.82it/s]                       \n"
     ]
    },
    {
     "name": "stdout",
     "output_type": "stream",
     "text": [
      "Record Node 104#Neuropix-PXI-100.ProbeB-AP\n",
      "/data/ecephys_661398_2023-03-31_17-01-09_sorted-ks2.5/postprocessed/experiment1_Record Node 104#Neuropix-PXI-100.ProbeB-AP_recording1\n",
      "30000.0\n"
     ]
    },
    {
     "name": "stderr",
     "output_type": "stream",
     "text": [
      "  0%|          | 0/1 [00:01<?, ?it/s]\n"
     ]
    },
    {
     "name": "stdout",
     "output_type": "stream",
     "text": [
      "Record Node 104#Neuropix-PXI-100.ProbeB-LFP\n",
      "/data/ecephys_661398_2023-03-31_17-01-09_sorted-ks2.5/postprocessed/experiment1_Record Node 104#Neuropix-PXI-100.ProbeB-AP_recording1\n",
      "2500.0\n"
     ]
    },
    {
     "name": "stderr",
     "output_type": "stream",
     "text": [
      "6it [00:02,  2.09it/s]                       \n"
     ]
    }
   ],
   "source": [
    "RMS_WIN_LENGTH_SECS = 3\n",
    "WELCH_WIN_LENGTH_SAMPLES = 1024\n",
    "\n",
    "for idx, stream_name in enumerate(neuropix_streams):\n",
    "    print(stream_name)\n",
    "\n",
    "    probe_name = probe_names[idx]\n",
    "\n",
    "    output_folder = results_folder / probe_name\n",
    "\n",
    "    if not os.path.exists(output_folder):\n",
    "        os.mkdir(output_folder)\n",
    "\n",
    "    if \"-LFP\" in stream_name:\n",
    "        is_lfp = True\n",
    "        np2 = False\n",
    "        ap_stream_name = neuropix_streams[idx - 1]\n",
    "    elif \"-AP\" in stream_name:\n",
    "        is_lfp = False\n",
    "        np2 = False\n",
    "        ap_stream_name = stream_name\n",
    "    else:  # Neuropixels 2.0\n",
    "        np2 = True\n",
    "        ap_stream_name = stream_name\n",
    "\n",
    "    waveform_folder = (\n",
    "        postprocessed_folder / f\"experiment1_{ap_stream_name}_recording1\"\n",
    "    )\n",
    "\n",
    "    print(waveform_folder)\n",
    "\n",
    "    we_recless = si.load_waveforms(waveform_folder, with_recording=False)\n",
    "\n",
    "    channel_inds = np.array(\n",
    "        [int(name[2:]) - 1 for name in we_recless.channel_ids]\n",
    "    )\n",
    "\n",
    "    recording = si.read_zarr(\n",
    "        ecephys_compressed_folder / f\"experiment1_{stream_name}.zarr\"\n",
    "    )\n",
    "\n",
    "    print(recording.sampling_frequency)\n",
    "\n",
    "    rms_win_length_samples = 2 ** np.ceil(\n",
    "        np.log2(recording.sampling_frequency * RMS_WIN_LENGTH_SECS)\n",
    "    )\n",
    "\n",
    "    # the window generator will generates window indices\n",
    "    # wingen = WindowGenerator(ns=recording.get_num_samples(), nswin=rms_win_length_samples, overlap=0)\n",
    "    wingen = WindowGenerator(ns=30000, nswin=rms_win_length_samples, overlap=0)\n",
    "\n",
    "    win = {\n",
    "        \"TRMS\": np.zeros((wingen.nwin, recording.get_num_channels())),\n",
    "        \"nsamples\": np.zeros((wingen.nwin,)),\n",
    "        \"fscale\": fscale(\n",
    "            WELCH_WIN_LENGTH_SAMPLES,\n",
    "            1 / recording.sampling_frequency,\n",
    "            one_sided=True,\n",
    "        ),\n",
    "        \"tscale\": wingen.tscale(fs=recording.sampling_frequency),\n",
    "    }\n",
    "\n",
    "    win[\"spectral_density\"] = np.zeros(\n",
    "        (len(win[\"fscale\"]), recording.get_num_channels())\n",
    "    )\n",
    "\n",
    "    with tqdm(total=wingen.nwin) as pbar:\n",
    "        for first, last in wingen.firstlast:\n",
    "            D = recording.get_traces(start_frame=first, end_frame=last).T\n",
    "\n",
    "            # remove low frequency noise below 1 Hz\n",
    "            D = hp(D, 1 / recording.sampling_frequency, [0, 1])\n",
    "            iw = wingen.iw\n",
    "            win[\"TRMS\"][iw, :] = rms(D)\n",
    "            win[\"nsamples\"][iw] = D.shape[1]\n",
    "\n",
    "            # the last window may be smaller than what is needed for welch\n",
    "            if last - first < WELCH_WIN_LENGTH_SAMPLES:\n",
    "                continue\n",
    "\n",
    "            # compute a smoothed spectrum using welch method\n",
    "            _, w = signal.welch(\n",
    "                D,\n",
    "                fs=recording.sampling_frequency,\n",
    "                window=\"hann\",\n",
    "                nperseg=WELCH_WIN_LENGTH_SAMPLES,\n",
    "                detrend=\"constant\",\n",
    "                return_onesided=True,\n",
    "                scaling=\"density\",\n",
    "                axis=-1,\n",
    "            )\n",
    "            win[\"spectral_density\"] += w.T\n",
    "            # print at least every 20 windows\n",
    "            if (iw % min(20, max(int(np.floor(wingen.nwin / 75)), 1))) == 0:\n",
    "                pbar.update(iw)\n",
    "\n",
    "    win[\"TRMS\"] = win[\"TRMS\"][:, channel_inds]\n",
    "    win[\"spectral_density\"] = win[\"spectral_density\"][:, channel_inds]\n",
    "\n",
    "    if is_lfp:\n",
    "        alf_object_time = f\"ephysTimeRmsLF\"\n",
    "        alf_object_freq = f\"ephysSpectralDensityLF\"\n",
    "    else:\n",
    "        alf_object_time = f\"ephysTimeRmsAP\"\n",
    "        alf_object_freq = f\"ephysSpectralDensityAP\"\n",
    "\n",
    "    tdict = {\n",
    "        \"rms\": win[\"TRMS\"].astype(np.single),\n",
    "        \"timestamps\": win[\"tscale\"].astype(np.single),\n",
    "    }\n",
    "    alfio.save_object_npy(\n",
    "        output_folder, object=alf_object_time, dico=tdict, namespace=\"iblqc\"\n",
    "    )\n",
    "\n",
    "    fdict = {\n",
    "        \"power\": win[\"spectral_density\"].astype(np.single),\n",
    "        \"freqs\": win[\"fscale\"].astype(np.single),\n",
    "    }\n",
    "    alfio.save_object_npy(\n",
    "        output_folder, object=alf_object_freq, dico=fdict, namespace=\"iblqc\"\n",
    "    )"
   ]
  }
 ],
 "metadata": {
  "kernelspec": {
   "display_name": "Python 3 (ipykernel)",
   "language": "python",
   "name": "python3"
  },
  "language_info": {
   "codemirror_mode": {
    "name": "ipython",
    "version": 3
   },
   "file_extension": ".py",
   "mimetype": "text/x-python",
   "name": "python",
   "nbconvert_exporter": "python",
   "pygments_lexer": "ipython3",
   "version": "3.9.12"
  }
 },
 "nbformat": 4,
 "nbformat_minor": 5
}
