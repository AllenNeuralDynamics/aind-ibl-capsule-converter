{
 "cells": [
  {
   "cell_type": "code",
   "execution_count": 17,
   "id": "780b1299-9424-4b0b-b6c6-9e918d0f6a99",
   "metadata": {},
   "outputs": [],
   "source": [
    "import numpy as np\n",
    "from pathlib import Path\n",
    "import shutil\n",
    "\n",
    "import spikeinterface as si\n",
    "from spikeinterface.exporters import export_to_phy"
   ]
  },
  {
   "cell_type": "code",
   "execution_count": 23,
   "id": "a59c8e41-26b2-48bb-9264-6063a41f5c65",
   "metadata": {},
   "outputs": [],
   "source": [
    "session_folder = Path('/data/ecephys_661398_2023-03-31_17-01-09')\n",
    "sorting_folder = Path('/data/ecephys_661398_2023-03-31_17-01-09_sorted-ks2.5')\n",
    "scratch_folder = Path('/scratch')\n",
    "results_folder = Path('/results')\n",
    "ecephys_compressed_folder = session_folder / 'ecephys_compressed'\n",
    "sorting_curated_folder = sorting_folder / \"sorting_precurated\"\n",
    "postprocessed_folder = sorting_folder / 'postprocessed'\n",
    "ap_stream_name = 'experiment1_Record Node 104#Neuropix-PXI-100.ProbeA-AP'\n",
    "lfp_stream_name = 'experiment1_Record Node 104#Neuropix-PXI-100.ProbeA-LFP'\n",
    "dat_path = session_folder / 'ephys_clipped' / 'Record Node 104' / 'experiment1' / 'recording1' / 'continuous' / 'Neuropix-PXI-100.ProbeA-AP' / 'continuous.dat' "
   ]
  },
  {
   "cell_type": "code",
   "execution_count": null,
   "id": "f8f398d3-b29f-45ee-92a9-6f5a0f8f0048",
   "metadata": {},
   "outputs": [],
   "source": []
  },
  {
   "cell_type": "code",
   "execution_count": 5,
   "id": "886cfaf2-b967-4855-8ad2-600e020888d2",
   "metadata": {},
   "outputs": [
    {
     "name": "stderr",
     "output_type": "stream",
     "text": [
      "/opt/conda/lib/python3.9/site-packages/spikeinterface/core/base.py:998: UserWarning: Versions are not the same. This might lead compatibility errors. Using spikeinterface==0.97.1 is recommended\n",
      "  warnings.warn(\n"
     ]
    }
   ],
   "source": [
    "we_recless = si.load_waveforms(postprocessed_folder / f'{ap_stream_name}_recording1', with_recording=False)"
   ]
  },
  {
   "cell_type": "code",
   "execution_count": 6,
   "id": "39b9b329-e132-4b53-8860-31e722186978",
   "metadata": {},
   "outputs": [
    {
     "data": {
      "text/plain": [
       "array(['AP1', 'AP2', 'AP3', 'AP4', 'AP5'], dtype='<U5')"
      ]
     },
     "execution_count": 6,
     "metadata": {},
     "output_type": "execute_result"
    }
   ],
   "source": [
    "we_recless.channel_ids[:5]"
   ]
  },
  {
   "cell_type": "code",
   "execution_count": 7,
   "id": "88c6dc48-b21d-4e00-b1b5-5c4c0a88a8d0",
   "metadata": {},
   "outputs": [
    {
     "data": {
      "text/plain": [
       "array([[11.,  0.],\n",
       "       [59.,  0.],\n",
       "       [11., 20.],\n",
       "       [59., 20.],\n",
       "       [11., 40.]])"
      ]
     },
     "execution_count": 7,
     "metadata": {},
     "output_type": "execute_result"
    }
   ],
   "source": [
    "\n",
    "we_recless.get_channel_locations()[:5]"
   ]
  },
  {
   "cell_type": "code",
   "execution_count": 3,
   "id": "bb237c4c-e6fd-425d-9dcc-33fdfb5f917b",
   "metadata": {},
   "outputs": [],
   "source": [
    "tmp_we_path = scratch_folder / postprocessed_folder.parent.name / \"postprocessed\" / ap_stream_name"
   ]
  },
  {
   "cell_type": "code",
   "execution_count": 16,
   "id": "80e1a463-8fd4-4d65-8259-5824bd655e5c",
   "metadata": {},
   "outputs": [
    {
     "data": {
      "text/plain": [
       "PosixPath('/scratch/ecephys_661398_2023-03-31_17-01-09_sorted-ks2.5/postprocessed/experiment1_Record Node 104#Neuropix-PXI-100.ProbeA-AP')"
      ]
     },
     "execution_count": 16,
     "metadata": {},
     "output_type": "execute_result"
    }
   ],
   "source": [
    "\n",
    "shutil.copytree(we_recless.folder, tmp_we_path)"
   ]
  },
  {
   "cell_type": "code",
   "execution_count": 8,
   "id": "5d42bde8-b746-4a84-a4fc-41d9d4fc5059",
   "metadata": {},
   "outputs": [
    {
     "name": "stdout",
     "output_type": "stream",
     "text": [
      "WaveformExtractor: 358 channels - 289 units - 1 segments\n",
      "  before:90 after:120 n_per_units:500 - sparse\n"
     ]
    }
   ],
   "source": [
    "we_recless_local = si.load_waveforms(tmp_we_path, with_recording=False,\n",
    "                                     sorting=we_recless.sorting)\n",
    "print(we_recless_local)"
   ]
  },
  {
   "cell_type": "code",
   "execution_count": 9,
   "id": "06e5b519-3997-425c-8e18-258138e32ebc",
   "metadata": {},
   "outputs": [],
   "source": [
    "phy_folder = results_folder / f\"{postprocessed_folder.parent.name}_phy\""
   ]
  },
  {
   "cell_type": "code",
   "execution_count": null,
   "id": "92182aa9-f495-45f3-afd7-3b970dc7a356",
   "metadata": {},
   "outputs": [],
   "source": [
    "we_recless_local."
   ]
  },
  {
   "cell_type": "code",
   "execution_count": 14,
   "id": "176049e3-00e1-4166-b92e-48c77e121726",
   "metadata": {},
   "outputs": [
    {
     "name": "stderr",
     "output_type": "stream",
     "text": [
      "/opt/conda/lib/python3.9/site-packages/spikeinterface/exporters/to_phy.py:85: UserWarning: Exporting to Phy with many channels and without sparsity might result in a heavy and less informative visualization. You can use use a sparse WaveformExtractor or you can use the 'sparsity' argument to enforce sparsity (see compute_sparsity())\n",
      "  warnings.warn(\n"
     ]
    },
    {
     "name": "stdout",
     "output_type": "stream",
     "text": [
      "Run:\n",
      "phy template-gui  /results/ecephys_661398_2023-03-31_17-01-09_sorted-ks2.5_phy/params.py\n"
     ]
    }
   ],
   "source": [
    "export_to_phy(we_recless_local, \n",
    "                   output_folder=phy_folder,\n",
    "                   compute_pc_features=False,\n",
    "                   remove_if_exists=True,\n",
    "                   copy_binary=False)"
   ]
  },
  {
   "cell_type": "code",
   "execution_count": 15,
   "id": "b270a037-3c8f-436c-995b-ce170de90b1e",
   "metadata": {},
   "outputs": [],
   "source": [
    "spike_locations = we_recless_local.load_extension(\"spike_locations\").get_data()\n",
    "spike_depths = spike_locations[\"y\"]"
   ]
  },
  {
   "cell_type": "code",
   "execution_count": 18,
   "id": "42150357-de49-470b-9988-62380bdb46d7",
   "metadata": {},
   "outputs": [],
   "source": [
    "np.save(phy_folder / \"spike.depths.npy\", spike_depths)"
   ]
  },
  {
   "cell_type": "code",
   "execution_count": 21,
   "id": "bb6bea1b-7a22-4742-b915-5009e7f1caa3",
   "metadata": {},
   "outputs": [],
   "source": [
    "from phylib.io import model\n",
    "from phylib.io import alf"
   ]
  },
  {
   "cell_type": "code",
   "execution_count": 53,
   "id": "30018c18-5e53-480f-b6ec-f4746c719900",
   "metadata": {},
   "outputs": [],
   "source": [
    "m = phy_model_from_ks2_path(phy_folder, dat_path, 30000, 384)"
   ]
  },
  {
   "cell_type": "code",
   "execution_count": 52,
   "id": "fd414632-a3e5-4f45-a238-6bad8d6cdd40",
   "metadata": {},
   "outputs": [
    {
     "name": "stderr",
     "output_type": "stream",
     "text": [
      "Converting to ALF:  20%|██        | 25/125 [00:00<00:00, 125.96it/s]\n"
     ]
    },
    {
     "ename": "AttributeError",
     "evalue": "'int' object has no attribute 'sparse_templates'",
     "output_type": "error",
     "traceback": [
      "\u001b[0;31m---------------------------------------------------------------------------\u001b[0m",
      "\u001b[0;31mAttributeError\u001b[0m                            Traceback (most recent call last)",
      "Cell \u001b[0;32mIn[52], line 4\u001b[0m\n\u001b[1;32m      1\u001b[0m out_path \u001b[38;5;241m=\u001b[39m \u001b[38;5;124m'\u001b[39m\u001b[38;5;124m/results/alf\u001b[39m\u001b[38;5;124m'\u001b[39m\n\u001b[1;32m      3\u001b[0m ac \u001b[38;5;241m=\u001b[39m alf\u001b[38;5;241m.\u001b[39mEphysAlfCreator(m)\n\u001b[0;32m----> 4\u001b[0m \u001b[43mac\u001b[49m\u001b[38;5;241;43m.\u001b[39;49m\u001b[43mconvert\u001b[49m\u001b[43m(\u001b[49m\u001b[43mout_path\u001b[49m\u001b[43m)\u001b[49m \u001b[38;5;66;03m#, label=label, force=force, ampfactor=ampfactor)\u001b[39;00m\n\u001b[1;32m      6\u001b[0m \u001b[38;5;66;03m# set depths to spike_depths to catch cases where it can't be computed from pc features (e.g in case of KS3)\u001b[39;00m\n\u001b[1;32m      7\u001b[0m \u001b[38;5;66;03m#m.depths = np.load(out_path.joinpath('spikes.depths.npy'))\u001b[39;00m\n\u001b[1;32m      8\u001b[0m \u001b[38;5;66;03m#ephysqc.spike_sorting_metrics_ks2(ks_path, m, save=True, save_path=out_path)\u001b[39;00m\n",
      "File \u001b[0;32m/opt/conda/lib/python3.9/site-packages/phylib/io/alf.py:128\u001b[0m, in \u001b[0;36mEphysAlfCreator.convert\u001b[0;34m(self, out_path, force, label, ampfactor)\u001b[0m\n\u001b[1;32m    126\u001b[0m \u001b[38;5;28mself\u001b[39m\u001b[38;5;241m.\u001b[39mmake_channel_objects()\n\u001b[1;32m    127\u001b[0m bar\u001b[38;5;241m.\u001b[39mupdate(\u001b[38;5;241m5\u001b[39m)\n\u001b[0;32m--> 128\u001b[0m \u001b[38;5;28;43mself\u001b[39;49m\u001b[38;5;241;43m.\u001b[39;49m\u001b[43mmake_template_and_spikes_objects\u001b[49m\u001b[43m(\u001b[49m\u001b[43m)\u001b[49m\n\u001b[1;32m    129\u001b[0m bar\u001b[38;5;241m.\u001b[39mupdate(\u001b[38;5;241m30\u001b[39m)\n\u001b[1;32m    130\u001b[0m \u001b[38;5;28mself\u001b[39m\u001b[38;5;241m.\u001b[39mmodel\u001b[38;5;241m.\u001b[39msave_spikes_subset_waveforms(\n\u001b[1;32m    131\u001b[0m     NSAMPLE_WAVEFORMS, sample2unit\u001b[38;5;241m=\u001b[39m\u001b[38;5;28mself\u001b[39m\u001b[38;5;241m.\u001b[39mampfactor)\n",
      "File \u001b[0;32m/opt/conda/lib/python3.9/site-packages/phylib/io/alf.py:242\u001b[0m, in \u001b[0;36mEphysAlfCreator.make_template_and_spikes_objects\u001b[0;34m(self)\u001b[0m\n\u001b[1;32m    240\u001b[0m \u001b[38;5;28mself\u001b[39m\u001b[38;5;241m.\u001b[39m_save_npy(\u001b[38;5;124m'\u001b[39m\u001b[38;5;124mspikes.times.npy\u001b[39m\u001b[38;5;124m'\u001b[39m, \u001b[38;5;28mself\u001b[39m\u001b[38;5;241m.\u001b[39mmodel\u001b[38;5;241m.\u001b[39mspike_times)\n\u001b[1;32m    241\u001b[0m \u001b[38;5;28mself\u001b[39m\u001b[38;5;241m.\u001b[39m_save_npy(\u001b[38;5;124m'\u001b[39m\u001b[38;5;124mspikes.samples.npy\u001b[39m\u001b[38;5;124m'\u001b[39m, \u001b[38;5;28mself\u001b[39m\u001b[38;5;241m.\u001b[39mmodel\u001b[38;5;241m.\u001b[39mspike_samples)\n\u001b[0;32m--> 242\u001b[0m spike_amps, templates_v, template_amps \u001b[38;5;241m=\u001b[39m \u001b[38;5;28;43mself\u001b[39;49m\u001b[38;5;241;43m.\u001b[39;49m\u001b[43mmodel\u001b[49m\u001b[38;5;241;43m.\u001b[39;49m\u001b[43mget_amplitudes_true\u001b[49m\u001b[43m(\u001b[49m\u001b[38;5;28;43mself\u001b[39;49m\u001b[38;5;241;43m.\u001b[39;49m\u001b[43mampfactor\u001b[49m\u001b[43m,\u001b[49m\n\u001b[1;32m    243\u001b[0m \u001b[43m                                                                        \u001b[49m\u001b[43muse\u001b[49m\u001b[38;5;241;43m=\u001b[39;49m\u001b[38;5;124;43m'\u001b[39;49m\u001b[38;5;124;43mtemplates\u001b[39;49m\u001b[38;5;124;43m'\u001b[39;49m\u001b[43m)\u001b[49m\n\u001b[1;32m    244\u001b[0m \u001b[38;5;28mself\u001b[39m\u001b[38;5;241m.\u001b[39m_save_npy(\u001b[38;5;124m'\u001b[39m\u001b[38;5;124mspikes.amps.npy\u001b[39m\u001b[38;5;124m'\u001b[39m, spike_amps)\n\u001b[1;32m    245\u001b[0m \u001b[38;5;28mself\u001b[39m\u001b[38;5;241m.\u001b[39m_save_npy(\u001b[38;5;124m'\u001b[39m\u001b[38;5;124mtemplates.amps.npy\u001b[39m\u001b[38;5;124m'\u001b[39m, template_amps)\n",
      "Cell \u001b[0;32mIn[50], line 21\u001b[0m, in \u001b[0;36mget_amplitudes_true\u001b[0;34m(self, sample22unit, use)\u001b[0m\n\u001b[1;32m     19\u001b[0m     n_wav \u001b[38;5;241m=\u001b[39m \u001b[38;5;28mself\u001b[39m\u001b[38;5;241m.\u001b[39mn_clusters\n\u001b[1;32m     20\u001b[0m \u001b[38;5;28;01melse\u001b[39;00m:\n\u001b[0;32m---> 21\u001b[0m     sparse \u001b[38;5;241m=\u001b[39m \u001b[38;5;28;43mself\u001b[39;49m\u001b[38;5;241;43m.\u001b[39;49m\u001b[43msparse_templates\u001b[49m\n\u001b[1;32m     22\u001b[0m     spikes \u001b[38;5;241m=\u001b[39m \u001b[38;5;28mself\u001b[39m\u001b[38;5;241m.\u001b[39mspike_templates\n\u001b[1;32m     23\u001b[0m     n_wav \u001b[38;5;241m=\u001b[39m \u001b[38;5;28mself\u001b[39m\u001b[38;5;241m.\u001b[39mn_templates\n",
      "\u001b[0;31mAttributeError\u001b[0m: 'int' object has no attribute 'sparse_templates'"
     ]
    }
   ],
   "source": [
    "out_path = '/results/alf'\n",
    "\n",
    "ac = alf.EphysAlfCreator(m)\n",
    "ac.convert(out_path) #, label=label, force=force, ampfactor=ampfactor)\n",
    "\n",
    "# set depths to spike_depths to catch cases where it can't be computed from pc features (e.g in case of KS3)\n",
    "#m.depths = np.load(out_path.joinpath('spikes.depths.npy'))\n",
    "#ephysqc.spike_sorting_metrics_ks2(ks_path, m, save=True, save_path=out_path)"
   ]
  },
  {
   "cell_type": "code",
   "execution_count": 41,
   "id": "5d423bb3-010e-418d-8fec-cf2a79a7988d",
   "metadata": {},
   "outputs": [
    {
     "data": {
      "text/plain": [
       "array([[  0,   1,   2, ...,  -1,  -1,  -1],\n",
       "       [  0,   1,   2, ...,  17,  18,  -1],\n",
       "       [  0,   1,   2, ...,  17,  18,  -1],\n",
       "       ...,\n",
       "       [319, 321, 322, ..., 337, 338, 339],\n",
       "       [310, 311, 312, ..., 327, 328, 330],\n",
       "       [317, 319, 320, ..., 335, 336, 337]])"
      ]
     },
     "execution_count": 41,
     "metadata": {},
     "output_type": "execute_result"
    }
   ],
   "source": [
    "m.sparse_templates.cols"
   ]
  },
  {
   "cell_type": "code",
   "execution_count": 29,
   "id": "afa15146-a3e9-404b-acec-6960e3aca9c1",
   "metadata": {},
   "outputs": [],
   "source": [
    "NCH_WAVEFORMS = 32  # number of channels to be saved in templates.waveforms and channels.waveforms\n",
    "\n",
    "def phy_model_from_ks2_path(ks2_path, dat_path, sample_rate, n_channels_dat):\n",
    "    \n",
    "    m = model.TemplateModel(dir_path=ks2_path,\n",
    "                            dat_path=dat_path,  # this assumes the raw data is in the same folder\n",
    "                            sample_rate=sample_rate,\n",
    "                            n_channels_dat=n_channels_dat,\n",
    "                            n_closest_channels=NCH_WAVEFORMS)\n",
    "    m.depths = m.get_depths()\n",
    "    return m"
   ]
  },
  {
   "cell_type": "code",
   "execution_count": 50,
   "id": "d4eeb63c-0351-481a-8adf-860e36f6d29d",
   "metadata": {},
   "outputs": [],
   "source": [
    "def get_amplitudes_true(self, sample22unit=1., use='templates'):\n",
    "    \"\"\"Convert spike amplitude values to input amplitudes units\n",
    "     via scaling by unwhitened template waveform.\n",
    "     :param sample2unit float: factor to convert the raw data to a physical unit (defaults 1.)\n",
    "     :returns: spike_amplitudes_volts: np.array [nspikes] spike amplitudes in raw data units\n",
    "     :returns: templates_volts: np.array[ntemplates, nsamples, nchannels]: templates\n",
    "     in raw data units\n",
    "     :returns: template_amps_volts: np.array[ntemplates]: average templates amplitudes\n",
    "      in raw data units\n",
    "     To scale the template for template matching,\n",
    "     raw_data_volts = templates_volts * spike_amplitudes_volts / template_amps_volts\n",
    "     \"\"\"\n",
    "    # spike_amp = ks2_spike_amps * maxmin(inv_whitening(ks2_template_amps))\n",
    "    # to rescale the template,\n",
    "\n",
    "    if use == 'clusters':\n",
    "        sparse = self.sparse_clusters\n",
    "        spikes = self.spike_clusters\n",
    "        n_wav = self.n_clusters\n",
    "    else:\n",
    "        sparse = self.sparse_templates\n",
    "        spikes = self.spike_templates\n",
    "        n_wav = self.n_templates\n",
    "\n",
    "    # unwhiten template waveforms on their channels of max amplitude\n",
    "    #if sparse.cols:\n",
    "    #    raise NotImplementedError\n",
    "    # apply the inverse whitening matrix to the template\n",
    "    templates_wfs = np.zeros_like(sparse.data)  # nt, ns, nc\n",
    "    for n in np.arange(n_wav):\n",
    "        templates_wfs[n, :, :] = np.matmul(sparse.data[n, :, :], self.wmi)\n",
    "\n",
    "    # The amplitude on each channel is the positive peak minus the negative\n",
    "    templates_ch_amps = np.max(templates_wfs, axis=1) - np.min(templates_wfs, axis=1)\n",
    "\n",
    "    # The template arbitrary unit amplitude is the amplitude of its largest channel\n",
    "    # (but see below for true tempAmps)\n",
    "    templates_amps_au = np.max(templates_ch_amps, axis=1)\n",
    "    spike_amps = templates_amps_au[spikes] * self.amplitudes\n",
    "\n",
    "    with np.errstate(divide='ignore', invalid='ignore'):\n",
    "        # take the average spike amplitude per template\n",
    "        templates_amps_v = (np.bincount(spikes, weights=spike_amps) /\n",
    "                            np.bincount(spikes))\n",
    "        # scale back the template according to the spikes units\n",
    "        templates_physical_unit = templates_wfs * (templates_amps_v / templates_amps_au\n",
    "                                                   )[:, np.newaxis, np.newaxis]\n",
    "\n",
    "    return (spike_amps * sample2unit,\n",
    "            templates_physical_unit * sample2unit,\n",
    "            templates_amps_v * sample2unit)"
   ]
  },
  {
   "cell_type": "code",
   "execution_count": 51,
   "id": "d3aad918-4f79-46b7-b603-061bc1a25d8c",
   "metadata": {},
   "outputs": [],
   "source": [
    "m.get_amplitudes_true = get_amplitudes_true"
   ]
  },
  {
   "cell_type": "code",
   "execution_count": null,
   "id": "64e11d14-47d6-4f8d-9b1a-b7d0464cbb23",
   "metadata": {},
   "outputs": [],
   "source": []
  }
 ],
 "metadata": {
  "kernelspec": {
   "display_name": "Python 3 (ipykernel)",
   "language": "python",
   "name": "python3"
  },
  "language_info": {
   "codemirror_mode": {
    "name": "ipython",
    "version": 3
   },
   "file_extension": ".py",
   "mimetype": "text/x-python",
   "name": "python",
   "nbconvert_exporter": "python",
   "pygments_lexer": "ipython3",
   "version": "3.9.12"
  }
 },
 "nbformat": 4,
 "nbformat_minor": 5
}
