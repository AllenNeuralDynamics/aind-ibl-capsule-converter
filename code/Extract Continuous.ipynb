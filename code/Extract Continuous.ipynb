{
 "cells": [
  {
   "cell_type": "code",
   "execution_count": 50,
   "id": "b43f5ec6-255d-46e7-8129-375b8f7ff8f4",
   "metadata": {},
   "outputs": [],
   "source": [
    "from pathlib import Path\n",
    "import numpy as np\n",
    "\n",
    "from neurodsp import fourier, utils\n",
    "from scipy import signal\n",
    "\n",
    "import spikeinterface as si\n",
    "\n",
    "import one.alf.io as alfio\n",
    "\n",
    "from tqdm import tqdm\n",
    "import glob\n",
    "import os"
   ]
  },
  {
   "cell_type": "code",
   "execution_count": 51,
   "id": "1a9c483e-3ff8-4450-92ae-ae0ae92949b5",
   "metadata": {},
   "outputs": [],
   "source": [
    "probe_name = 'ProbeB'\n",
    "\n",
    "data_directories = glob.glob('/data/ecephys_*')\n",
    "data_directories.sort()\n",
    "\n",
    "session_folder = Path(data_directories[0])\n",
    "sorting_folder = Path(data_directories[1])\n",
    "scratch_folder = Path('/scratch')\n",
    "results_folder = Path('/results')\n",
    "output_folder = results_folder / probe_name\n",
    "\n",
    "if not os.path.exists(output_folder):\n",
    "    os.mkdir(output_folder)\n",
    "ecephys_compressed_folder = session_folder / 'ecephys_compressed'\n",
    "sorting_curated_folder = sorting_folder / \"sorting_precurated\"\n",
    "postprocessed_folder = sorting_folder / 'postprocessed'\n",
    "ap_stream_name = f'experiment1_Record Node 104#Neuropix-PXI-100.{probe_name}-AP'\n",
    "lfp_stream_name = f'experiment1_Record Node 104#Neuropix-PXI-100.{probe_name}-LFP'"
   ]
  },
  {
   "cell_type": "code",
   "execution_count": 52,
   "id": "a60546bb-88f3-4a71-a9a7-43bed290fb6c",
   "metadata": {},
   "outputs": [],
   "source": [
    "we_recless = si.load_waveforms(postprocessed_folder / f'{ap_stream_name}_recording1', with_recording=False)\n",
    "\n",
    "channel_inds = np.array([int(name[2:])-1 for name in we_recless.channel_ids])"
   ]
  },
  {
   "cell_type": "code",
   "execution_count": 53,
   "id": "39532141-e14c-4d6d-8adc-e73b62e39f12",
   "metadata": {},
   "outputs": [],
   "source": [
    "RMS_WIN_LENGTH_SECS = 3\n",
    "WELCH_WIN_LENGTH_SAMPLES = 1024"
   ]
  },
  {
   "cell_type": "code",
   "execution_count": 54,
   "id": "a4f40609-bf0a-4263-886c-00c710cd3ee5",
   "metadata": {},
   "outputs": [
    {
     "name": "stdout",
     "output_type": "stream",
     "text": [
      "30000.0\n"
     ]
    },
    {
     "name": "stderr",
     "output_type": "stream",
     "text": [
      "54150it [4:24:51,  3.41it/s]                        \n"
     ]
    },
    {
     "name": "stdout",
     "output_type": "stream",
     "text": [
      "2500.0\n"
     ]
    },
    {
     "name": "stderr",
     "output_type": "stream",
     "text": [
      "91200it [36:05, 42.12it/s]                         \n"
     ]
    }
   ],
   "source": [
    "for is_lfp in (False, True):\n",
    "\n",
    "    if is_lfp:\n",
    "        stream_name = lfp_stream_name\n",
    "    else:\n",
    "        stream_name = ap_stream_name\n",
    "    \n",
    "    recording = si.read_zarr(ecephys_compressed_folder / f\"{stream_name}.zarr\")\n",
    "\n",
    "    print(recording.sampling_frequency)\n",
    "\n",
    "    rms_win_length_samples = 2 ** np.ceil(np.log2(recording.sampling_frequency * RMS_WIN_LENGTH_SECS))\n",
    "\n",
    "    # the window generator will generates window indices\n",
    "    wingen = utils.WindowGenerator(ns=recording.get_num_samples(), nswin=rms_win_length_samples, overlap=0)\n",
    "\n",
    "    win = {'TRMS': np.zeros((wingen.nwin, recording.get_num_channels())),\n",
    "           'nsamples': np.zeros((wingen.nwin,)),\n",
    "           'fscale': fourier.fscale(WELCH_WIN_LENGTH_SAMPLES, 1 / recording.sampling_frequency, one_sided=True),\n",
    "           'tscale': wingen.tscale(fs=recording.sampling_frequency)}\n",
    "    \n",
    "    win['spectral_density'] = np.zeros((len(win['fscale']), recording.get_num_channels()))\n",
    "\n",
    "    with tqdm(total=wingen.nwin) as pbar:\n",
    "        for first, last in wingen.firstlast:\n",
    "            D = recording.get_traces(start_frame=first, end_frame=last).T\n",
    "            # remove low frequency noise below 1 Hz\n",
    "            D = fourier.hp(D, 1 / recording.sampling_frequency, [0, 1])\n",
    "            iw = wingen.iw\n",
    "            win['TRMS'][iw, :] = utils.rms(D)\n",
    "            win['nsamples'][iw] = D.shape[1]\n",
    "            # the last window may be smaller than what is needed for welch\n",
    "            if last - first < WELCH_WIN_LENGTH_SAMPLES:\n",
    "                continue\n",
    "            # compute a smoothed spectrum using welch method\n",
    "            _, w = signal.welch(\n",
    "                D, fs=recording.sampling_frequency, window='hann', nperseg=WELCH_WIN_LENGTH_SAMPLES,\n",
    "                detrend='constant', return_onesided=True, scaling='density', axis=-1\n",
    "            )\n",
    "            win['spectral_density'] += w.T\n",
    "            # print at least every 20 windows\n",
    "            if (iw % min(20, max(int(np.floor(wingen.nwin / 75)), 1))) == 0:\n",
    "                pbar.update(iw)\n",
    "                \n",
    "    win['TRMS'] = win['TRMS'][:,channel_inds]\n",
    "    win['spectral_density'] = win['spectral_density'][:,channel_inds]\n",
    "\n",
    "    if is_lfp:\n",
    "        alf_object_time = f'ephysTimeRmsLF'\n",
    "        alf_object_freq = f'ephysSpectralDensityLF'\n",
    "    else:\n",
    "        alf_object_time = f'ephysTimeRmsAP'\n",
    "        alf_object_freq = f'ephysSpectralDensityAP'\n",
    "    \n",
    "    tdict = {'rms': win['TRMS'].astype(np.single), 'timestamps': win['tscale'].astype(np.single)}\n",
    "    alfio.save_object_npy(output_folder, object=alf_object_time, dico=tdict, namespace='iblqc')\n",
    "    \n",
    "    fdict = {'power': win['spectral_density'].astype(np.single),\n",
    "             'freqs': win['fscale'].astype(np.single)}\n",
    "    alfio.save_object_npy(\n",
    "        output_folder, object=alf_object_freq, dico=fdict, namespace='iblqc')"
   ]
  },
  {
   "cell_type": "code",
   "execution_count": null,
   "id": "164d3bf0-74b5-4f2b-895e-7f1bdb3c01ce",
   "metadata": {},
   "outputs": [],
   "source": []
  }
 ],
 "metadata": {
  "kernelspec": {
   "display_name": "Python 3 (ipykernel)",
   "language": "python",
   "name": "python3"
  },
  "language_info": {
   "codemirror_mode": {
    "name": "ipython",
    "version": 3
   },
   "file_extension": ".py",
   "mimetype": "text/x-python",
   "name": "python",
   "nbconvert_exporter": "python",
   "pygments_lexer": "ipython3",
   "version": "3.9.12"
  }
 },
 "nbformat": 4,
 "nbformat_minor": 5
}
