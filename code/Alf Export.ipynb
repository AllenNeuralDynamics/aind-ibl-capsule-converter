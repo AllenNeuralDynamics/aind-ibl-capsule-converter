{
 "cells": [
  {
   "cell_type": "code",
   "execution_count": 30,
   "id": "3ae746f6-e330-47f9-b2bf-066182917c68",
   "metadata": {},
   "outputs": [],
   "source": [
    "import numpy as np\n",
    "from pathlib import Path\n",
    "import shutil\n",
    "import os\n",
    "import glob\n",
    "\n",
    "import spikeinterface as si\n",
    "from spikeinterface.exporters import export_to_phy\n",
    "\n",
    "import matplotlib.pyplot as plt\n",
    "%matplotlib inline"
   ]
  },
  {
   "cell_type": "code",
   "execution_count": 31,
   "id": "0018cb6c-46dc-4d1c-b5c8-7e1569a2b5e8",
   "metadata": {},
   "outputs": [],
   "source": [
    "probe_name = 'ProbeB'\n",
    "\n",
    "data_directories = glob.glob('/data/ecephys_*')\n",
    "data_directories.sort()\n",
    "\n",
    "session_folder = Path(data_directories[0])\n",
    "sorting_folder = Path(data_directories[1])\n",
    "scratch_folder = Path('/scratch')\n",
    "results_folder = Path('/results')\n",
    "output_folder = results_folder / probe_name\n",
    "\n",
    "if not os.path.exists(output_folder):\n",
    "    os.mkdir(output_folder)\n",
    "ecephys_compressed_folder = session_folder / 'ecephys_compressed'\n",
    "sorting_curated_folder = sorting_folder / \"sorting_precurated\"\n",
    "postprocessed_folder = sorting_folder / 'postprocessed'\n",
    "ap_stream_name = f'experiment1_Record Node 104#Neuropix-PXI-100.{probe_name}-AP'\n",
    "lfp_stream_name = f'experiment1_Record Node 104#Neuropix-PXI-100.{probe_name}-LFP'"
   ]
  },
  {
   "cell_type": "code",
   "execution_count": 32,
   "id": "79861f58-a0ae-4c86-b82b-ca3107451590",
   "metadata": {},
   "outputs": [
    {
     "name": "stderr",
     "output_type": "stream",
     "text": [
      "/opt/conda/lib/python3.9/site-packages/spikeinterface/core/base.py:998: UserWarning: Versions are not the same. This might lead compatibility errors. Using spikeinterface==0.97.1 is recommended\n",
      "  warnings.warn(\n"
     ]
    },
    {
     "data": {
      "text/plain": [
       "array(['AP1', 'AP2', 'AP3', 'AP4', 'AP5'], dtype='<U5')"
      ]
     },
     "execution_count": 32,
     "metadata": {},
     "output_type": "execute_result"
    }
   ],
   "source": [
    "we_recless = si.load_waveforms(postprocessed_folder / f'{ap_stream_name}_recording1', with_recording=False)\n",
    "\n",
    "we_recless.channel_ids[:5]"
   ]
  },
  {
   "cell_type": "code",
   "execution_count": 33,
   "id": "e9abb962-4b92-485e-9660-5a2cf9eb4486",
   "metadata": {},
   "outputs": [],
   "source": [
    "channel_inds = np.array([int(name[2:])-1 for name in we_recless.channel_ids])"
   ]
  },
  {
   "cell_type": "code",
   "execution_count": 34,
   "id": "92378f5e-a0ed-4859-a148-cdd33774de92",
   "metadata": {},
   "outputs": [
    {
     "data": {
      "text/plain": [
       "369"
      ]
     },
     "execution_count": 34,
     "metadata": {},
     "output_type": "execute_result"
    }
   ],
   "source": [
    "len(channel_inds)"
   ]
  },
  {
   "cell_type": "code",
   "execution_count": 35,
   "id": "874084bf-5e67-462e-b470-5fffd774dad0",
   "metadata": {},
   "outputs": [],
   "source": [
    "we_recless.get_channel_locations()[:5]\n",
    "\n",
    "tmp_we_path = scratch_folder / postprocessed_folder.parent.name / \"postprocessed\" / ap_stream_name"
   ]
  },
  {
   "cell_type": "code",
   "execution_count": 37,
   "id": "ad24ec91-c8cb-4c9d-92f0-357f9f3c0e43",
   "metadata": {},
   "outputs": [
    {
     "name": "stdout",
     "output_type": "stream",
     "text": [
      "Files already copied, ignoring\n"
     ]
    }
   ],
   "source": [
    "try:\n",
    "    shutil.copytree(we_recless.folder, tmp_we_path)\n",
    "except FileExistsError:\n",
    "    print('Files already copied, ignoring')"
   ]
  },
  {
   "cell_type": "code",
   "execution_count": 38,
   "id": "618cd2db-765e-40e3-96f9-25f359a00cc7",
   "metadata": {},
   "outputs": [
    {
     "name": "stdout",
     "output_type": "stream",
     "text": [
      "WaveformExtractor: 369 channels - 945 units - 1 segments\n",
      "  before:90 after:120 n_per_units:500 - sparse\n"
     ]
    }
   ],
   "source": [
    "\n",
    "we_recless_local = si.load_waveforms(tmp_we_path, with_recording=False,\n",
    "                                     sorting=we_recless.sorting)\n",
    "print(we_recless_local)"
   ]
  },
  {
   "cell_type": "code",
   "execution_count": 39,
   "id": "91535526-1275-4bc5-ad79-955c6e0a9c48",
   "metadata": {},
   "outputs": [],
   "source": [
    "phy_folder = results_folder / f\"{postprocessed_folder.parent.name}_phy\"\n"
   ]
  },
  {
   "cell_type": "code",
   "execution_count": 40,
   "id": "9c2367e6-b5f5-4b22-9f2f-39206d096b53",
   "metadata": {},
   "outputs": [
    {
     "name": "stderr",
     "output_type": "stream",
     "text": [
      "/opt/conda/lib/python3.9/site-packages/spikeinterface/exporters/to_phy.py:85: UserWarning: Exporting to Phy with many channels and without sparsity might result in a heavy and less informative visualization. You can use use a sparse WaveformExtractor or you can use the 'sparsity' argument to enforce sparsity (see compute_sparsity())\n",
      "  warnings.warn(\n"
     ]
    },
    {
     "name": "stdout",
     "output_type": "stream",
     "text": [
      "Run:\n",
      "phy template-gui  /results/ecephys_661398_2023-03-31_17-01-09_sorted-ks2.5_phy/params.py\n"
     ]
    }
   ],
   "source": [
    "export_to_phy(we_recless_local, \n",
    "                   output_folder=phy_folder,\n",
    "                   compute_pc_features=False,\n",
    "                   remove_if_exists=True,\n",
    "                   copy_binary=False)"
   ]
  },
  {
   "cell_type": "code",
   "execution_count": 41,
   "id": "8a7e6c45-ea54-4cdf-b6fa-7d7faaa9689b",
   "metadata": {},
   "outputs": [],
   "source": [
    "spike_locations = we_recless_local.load_extension(\"spike_locations\").get_data()\n",
    "spike_depths = spike_locations[\"y\"]"
   ]
  },
  {
   "cell_type": "code",
   "execution_count": 42,
   "id": "3e44f1da-58c0-4746-8103-6dcd2cef2789",
   "metadata": {},
   "outputs": [],
   "source": [
    "# convert clusters and squeeze\n",
    "\n",
    "clusters = np.load(phy_folder / \"spike_clusters.npy\")\n",
    "np.save(phy_folder / \"spike_clusters.npy\", np.squeeze(clusters.astype('uint32')))"
   ]
  },
  {
   "cell_type": "code",
   "execution_count": 43,
   "id": "1beca79b-8c32-4207-9ace-6aa3fed6121e",
   "metadata": {},
   "outputs": [],
   "source": [
    "# convert times and squeeze\n",
    "\n",
    "times = np.load(phy_folder / \"spike_times.npy\")\n",
    "np.save(phy_folder / \"spike_times.npy\", np.squeeze(times / 30000.).astype('float64'))"
   ]
  },
  {
   "cell_type": "code",
   "execution_count": 44,
   "id": "0c21006f-3693-4787-bd15-8e7caac4550e",
   "metadata": {},
   "outputs": [],
   "source": [
    "# convert amplitudes and squeeze\n",
    "\n",
    "amps = np.load(phy_folder / \"amplitudes.npy\")\n",
    "np.save(phy_folder / \"amplitudes.npy\", np.squeeze(-amps / 1e6).astype('float64'))"
   ]
  },
  {
   "cell_type": "code",
   "execution_count": 46,
   "id": "9c46719a-14e5-409e-b07d-06c6c988d0bd",
   "metadata": {},
   "outputs": [],
   "source": [
    "np.save(phy_folder / \"spike_depths.npy\", spike_depths)\n",
    "np.save(phy_folder / \"channel_inds.npy\", np.arange(len(channel_inds), dtype='int'))"
   ]
  },
  {
   "cell_type": "code",
   "execution_count": 47,
   "id": "8af8df25-a5bf-4e80-b163-7f62b10e519a",
   "metadata": {},
   "outputs": [],
   "source": [
    "cluster_channels = []\n",
    "cluster_peakToTrough = []\n",
    "cluster_waveforms = []\n",
    "num_chans = []\n",
    "\n",
    "templates = we_recless_local.get_all_templates()\n",
    "channel_locs = we_recless_local.get_channel_locations()\n",
    "\n",
    "for unit_idx, unit_id in enumerate(we_recless_local.unit_ids):\n",
    "    waveform = templates[unit_idx,:,:]\n",
    "    peak_channel = np.argmax(np.max(waveform, 0) - np.min(waveform,0))\n",
    "    peak_waveform = waveform[:,peak_channel]\n",
    "    peakToTrough = (np.argmax(peak_waveform) - np.argmin(peak_waveform)) / 30000.\n",
    "    cluster_channels.append(int(channel_locs[peak_channel,1] / 10))\n",
    "    cluster_peakToTrough.append(peakToTrough)\n",
    "    cluster_waveforms.append(waveform)"
   ]
  },
  {
   "cell_type": "code",
   "execution_count": 48,
   "id": "78fdd590-ac6d-4654-8a1d-4f1dd74007d5",
   "metadata": {},
   "outputs": [],
   "source": [
    "np.save(phy_folder / \"cluster_peakToTrough.npy\", np.array(cluster_peakToTrough))\n",
    "np.save(phy_folder / \"cluster_waveforms.npy\", np.stack(cluster_waveforms))\n",
    "np.save(phy_folder / \"cluster_channels.npy\", np.array(cluster_channels))"
   ]
  },
  {
   "cell_type": "code",
   "execution_count": 49,
   "id": "6f924aae-1e2b-4fc8-bac0-3d295806f6cd",
   "metadata": {},
   "outputs": [],
   "source": [
    "_FILE_RENAMES = [  # file_in, file_out\n",
    "    ('channel_positions.npy', 'channels.localCoordinates.npy'),\n",
    "    ('channel_inds.npy', 'channels.rawInd.npy'),\n",
    "    ('cluster_peakToTrough.npy', 'clusters.peakToTrough.npy'),\n",
    "    ('cluster_channels.npy', 'clusters.channels.npy'),\n",
    "    ('cluster_waveforms.npy', 'clusters.waveforms.npy'),\n",
    "    ('spike_clusters.npy', 'spikes.clusters.npy'),\n",
    "    ('amplitudes.npy', 'spikes.amps.npy'),\n",
    "    ('spike_depths.npy', 'spikes.depths.npy'),\n",
    "    ('spike_times.npy', 'spikes.times.npy'),\n",
    "]"
   ]
  },
  {
   "cell_type": "code",
   "execution_count": 57,
   "id": "0499eb94-a26c-4e6b-baca-3ba8f7db6358",
   "metadata": {},
   "outputs": [],
   "source": [
    "input_directory = phy_folder\n",
    "output_directory = Path('/results') / probe_name\n",
    "\n",
    "if not os.path.exists(output_directory):\n",
    "    os.mkdir(output_directory)\n",
    "\n",
    "for names in _FILE_RENAMES:\n",
    "    input = input_directory / names[0]\n",
    "    output = output_directory / names[1]\n",
    "    shutil.copyfile(input, output)"
   ]
  },
  {
   "cell_type": "code",
   "execution_count": 51,
   "id": "e11475cc-3003-4af1-8440-78ef191a0271",
   "metadata": {},
   "outputs": [],
   "source": [
    "qm = we_recless_local.load_extension(\"quality_metrics\")"
   ]
  },
  {
   "cell_type": "code",
   "execution_count": 52,
   "id": "0320cfbe-634e-4300-b68f-fd4d251a4ccc",
   "metadata": {},
   "outputs": [],
   "source": [
    "qm_data = qm.get_data()"
   ]
  },
  {
   "cell_type": "code",
   "execution_count": 53,
   "id": "293b4ba7-905c-4a66-aadd-dffd9aa2000f",
   "metadata": {},
   "outputs": [
    {
     "data": {
      "text/plain": [
       "array([  0,   2,   3,   4,   5,   6,   7,   8,   9,  10,  11,  12,  13,\n",
       "        14,  15,  16,  17,  18,  19,  20,  21,  22,  23,  24,  25,  26,\n",
       "        27,  28,  29,  30,  31,  32,  33,  34,  35,  36,  37,  38,  39,\n",
       "        40,  41,  42,  43,  44,  45,  46,  47,  48,  49,  50,  51,  52,\n",
       "        53,  54,  55,  56,  57,  58,  59,  60,  61,  62,  63,  64,  65,\n",
       "        66,  67,  68,  69,  70,  71,  72,  73,  74,  75,  76,  77,  78,\n",
       "        79,  80,  81,  82,  83,  84,  85,  86,  87,  88,  89,  90,  91,\n",
       "        92,  93,  94,  95,  96,  97,  98,  99, 100, 101, 103, 104, 106,\n",
       "       107, 108, 109, 110, 111, 112, 113, 114, 115, 116, 117, 118, 119,\n",
       "       120, 121, 122, 124, 125, 126, 127, 128, 129, 130, 131, 132, 134,\n",
       "       135, 137, 138, 139, 140, 141, 142, 143, 144, 145, 146, 147, 148,\n",
       "       149, 150, 151, 152, 153, 154, 155, 156, 157, 158, 159, 160, 161,\n",
       "       162, 163, 164, 165, 166, 167, 168, 169, 170, 172, 173, 174, 175,\n",
       "       176, 177, 178, 179, 180, 181, 182, 183, 184, 185, 186, 187, 188,\n",
       "       189, 190, 191, 192, 193, 194, 195, 196, 197, 198, 199, 200, 201,\n",
       "       202, 203, 204, 205, 206, 207, 208, 209, 210, 212, 213, 214, 215,\n",
       "       216, 217, 218, 219, 220, 221, 222, 223, 224, 225, 226, 227, 228,\n",
       "       229, 230, 231, 232, 233, 234, 235, 236, 237, 238, 239, 240, 241,\n",
       "       242, 243, 244, 245, 246, 247, 248, 249, 250, 251, 252, 253, 254,\n",
       "       255, 256, 257, 258, 259, 260, 261, 262, 263, 264, 265, 266, 267,\n",
       "       268, 269, 270, 271, 272, 273, 274, 275, 276, 277, 278, 279, 280,\n",
       "       281, 282, 283, 284, 285, 286, 287, 288, 289, 290, 291, 292, 293,\n",
       "       294, 295, 296, 297, 298, 299, 300, 301, 302, 303, 304, 305, 306,\n",
       "       307, 308, 309, 310, 311, 312, 313, 314, 315, 316, 317, 318, 319,\n",
       "       320, 321, 322, 323, 324, 325, 326, 327, 328, 329, 330, 331, 332,\n",
       "       333, 334, 335, 336, 337, 338, 339, 340, 341, 342, 343, 344, 345,\n",
       "       346, 347, 348, 349, 350, 351, 352, 353, 354, 355, 356, 357, 358,\n",
       "       359, 360, 361, 362, 363, 364, 365, 366, 367, 368, 369, 370, 371,\n",
       "       372, 373, 374, 375, 376, 377, 378, 379, 380, 381, 382, 383, 384,\n",
       "       385, 386, 387, 388, 389, 391, 392, 393, 394, 395, 396, 397, 398,\n",
       "       399, 400, 401, 402, 403, 404, 405, 406, 407, 408, 409, 410, 411,\n",
       "       412, 413, 414, 415, 416, 417, 418, 419, 420, 421, 422, 423, 424,\n",
       "       425, 426, 428, 429, 430, 431, 432, 433, 434, 435, 436, 437, 439,\n",
       "       440, 441, 442, 443, 444, 445, 446, 447, 448, 449, 450, 451, 452,\n",
       "       453, 454, 455, 456, 457, 458, 459, 460, 461, 462, 463, 464, 465,\n",
       "       466, 467, 468, 469, 470, 471, 472, 473, 474, 475, 476, 477, 478,\n",
       "       479, 480, 481, 482, 483, 484, 485, 486, 487, 488, 489, 490, 491,\n",
       "       492, 493, 494, 495, 496, 497, 498, 499, 500, 501, 502, 503, 504,\n",
       "       505, 506, 507, 508, 509, 510, 511, 512, 513, 514, 515, 516, 517,\n",
       "       518, 519, 520, 521, 522, 523, 524, 525, 526, 527, 528, 529, 530,\n",
       "       531, 532, 533, 534, 535, 536, 537, 538, 539, 540, 542, 543, 544,\n",
       "       545, 546, 547, 548, 549, 550, 551, 552, 553, 554, 555, 556, 557,\n",
       "       558, 559, 560, 561, 562, 563, 564, 565, 566, 569, 570, 571, 572,\n",
       "       573, 574, 575, 576, 577, 578, 580, 581, 582, 584, 585, 586, 587,\n",
       "       588, 589, 590, 591, 592, 593, 594, 595, 596, 597, 598, 599, 600,\n",
       "       602, 603, 604, 605, 606, 607, 608, 609, 610, 611, 612, 613, 614,\n",
       "       615, 617, 618, 620, 621, 622, 623, 624, 625, 626, 627, 628, 629,\n",
       "       630, 631, 632, 633, 634, 635, 636, 637, 638, 639, 640, 641, 642,\n",
       "       643, 644, 645, 646, 647, 648, 649, 650, 651, 652, 653, 654, 655,\n",
       "       656, 657, 658, 659, 660, 661, 662, 663, 664, 665, 666, 668, 669,\n",
       "       670, 671, 672, 673, 674, 675, 676, 677, 678, 679, 680, 681, 682,\n",
       "       683, 684, 685, 686, 687, 688, 689, 690, 691, 692, 693, 694, 695,\n",
       "       696, 697, 698, 699, 700, 701, 702, 703, 704, 705, 706, 707, 708,\n",
       "       709, 710, 711, 712, 713, 714, 715, 716, 717, 718, 719, 720, 721,\n",
       "       722, 723, 724, 725, 727, 728, 729, 730, 731, 732, 733, 734, 735,\n",
       "       736, 737, 738, 739, 740, 741, 742, 743, 744, 745, 746, 747, 748,\n",
       "       749, 750, 751, 752, 753, 754, 755, 756, 757, 758, 759, 760, 761,\n",
       "       762, 763, 764, 765, 766, 767, 768, 769, 770, 771, 772, 773, 774,\n",
       "       775, 776, 777, 778, 779, 780, 781, 782, 783, 784, 785, 786, 787,\n",
       "       788, 789, 790, 791, 792, 793, 794, 795, 796, 797, 798, 799, 800,\n",
       "       801, 802, 803, 804, 805, 806, 807, 808, 809, 810, 811, 812, 813,\n",
       "       814, 815, 816, 817, 818, 819, 820, 821, 822, 824, 825, 826, 827,\n",
       "       828, 829, 830, 831, 832, 834, 835, 837, 838, 839, 840, 841, 842,\n",
       "       843, 844, 845, 846, 847, 848, 849, 851, 852, 854, 855, 856, 857,\n",
       "       858, 859, 860, 861, 862, 863, 864, 865, 866, 867, 868, 869, 870,\n",
       "       871, 872, 873, 874, 875, 876, 877, 878, 879, 880, 881, 882, 883,\n",
       "       884, 885, 886, 887, 888, 889, 890, 891, 892, 893, 894, 895, 896,\n",
       "       897, 898, 899, 900, 901, 902, 903, 904, 905, 906, 907, 908, 909,\n",
       "       910, 911, 912, 913, 914, 915, 916, 917, 918, 919, 920, 921, 922,\n",
       "       923, 924, 925, 926, 927, 928, 929, 930, 931, 932, 933, 934, 935,\n",
       "       936, 937, 938, 939, 940, 941, 942, 943, 944, 945, 946, 947, 948,\n",
       "       949, 950, 951, 952, 953, 954, 955, 956, 957, 958, 959, 960, 961,\n",
       "       962, 963, 964, 965, 966, 967, 968, 969, 970])"
      ]
     },
     "execution_count": 53,
     "metadata": {},
     "output_type": "execute_result"
    }
   ],
   "source": [
    "we_recless_local.unit_ids"
   ]
  },
  {
   "cell_type": "code",
   "execution_count": 54,
   "id": "d2fb762a-3c61-4f49-a3b2-88577e9319f3",
   "metadata": {},
   "outputs": [],
   "source": [
    "qm_data.index.name = 'cluster_id'\n",
    "qm_data['cluster_id.1'] = qm_data.index.values"
   ]
  },
  {
   "cell_type": "code",
   "execution_count": 58,
   "id": "61c9b249-3ca6-4efc-94ef-31358da9bc27",
   "metadata": {},
   "outputs": [],
   "source": [
    "qm_data.to_csv(output_folder / 'clusters.metrics.csv')"
   ]
  },
  {
   "cell_type": "code",
   "execution_count": 59,
   "id": "61490c18-92d5-4be2-af6c-a52c96eb450e",
   "metadata": {},
   "outputs": [
    {
     "data": {
      "text/plain": [
       "'/results/ProbeB.zip'"
      ]
     },
     "execution_count": 59,
     "metadata": {},
     "output_type": "execute_result"
    }
   ],
   "source": [
    "shutil.make_archive('/results/' + probe_name, 'zip', '/results/' + probe_name)"
   ]
  },
  {
   "cell_type": "code",
   "execution_count": null,
   "id": "a31214cb-8157-4c62-91e2-095bc1495062",
   "metadata": {},
   "outputs": [],
   "source": []
  }
 ],
 "metadata": {
  "kernelspec": {
   "display_name": "Python 3 (ipykernel)",
   "language": "python",
   "name": "python3"
  },
  "language_info": {
   "codemirror_mode": {
    "name": "ipython",
    "version": 3
   },
   "file_extension": ".py",
   "mimetype": "text/x-python",
   "name": "python",
   "nbconvert_exporter": "python",
   "pygments_lexer": "ipython3",
   "version": "3.9.12"
  }
 },
 "nbformat": 4,
 "nbformat_minor": 5
}
